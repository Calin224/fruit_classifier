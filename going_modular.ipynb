{
 "cells": [
  {
   "cell_type": "code",
   "execution_count": 15,
   "id": "initial_id",
   "metadata": {
    "ExecuteTime": {
     "end_time": "2025-04-27T15:05:10.341237Z",
     "start_time": "2025-04-27T15:05:07.813514Z"
    },
    "collapsed": true
   },
   "outputs": [],
   "source": [
    "import torch"
   ]
  },
  {
   "cell_type": "code",
   "execution_count": 16,
   "id": "a8223d8dbe4a7c32",
   "metadata": {
    "ExecuteTime": {
     "end_time": "2025-04-27T15:05:10.566679Z",
     "start_time": "2025-04-27T15:05:10.474898Z"
    }
   },
   "outputs": [
    {
     "data": {
      "text/plain": [
       "'cuda'"
      ]
     },
     "execution_count": 16,
     "metadata": {},
     "output_type": "execute_result"
    }
   ],
   "source": [
    "device = \"cuda\" if torch.cuda.is_available() else \"cpu\"\n",
    "device"
   ]
  },
  {
   "cell_type": "markdown",
   "id": "2aa7cf99193eabf7",
   "metadata": {},
   "source": [
    "## Modularity"
   ]
  },
  {
   "cell_type": "code",
   "execution_count": 17,
   "id": "8ce6f7e49bd215e3",
   "metadata": {
    "ExecuteTime": {
     "end_time": "2025-04-27T15:05:10.591369Z",
     "start_time": "2025-04-27T15:05:10.584860Z"
    }
   },
   "outputs": [
    {
     "name": "stdout",
     "output_type": "stream",
     "text": [
      "Overwriting data_setup.py\n"
     ]
    }
   ],
   "source": [
    "%%writefile data_setup.py\n",
    "\n",
    "import os\n",
    "\n",
    "from torchvision import datasets, transforms\n",
    "from torch.utils.data import DataLoader\n",
    "\n",
    "NUM_WORKERS = os.cpu_count()\n",
    "\n",
    "\n",
    "def create_dataloader(train_dir: str,\n",
    "                      test_dir: str,\n",
    "                      transform: transforms.Compose,\n",
    "                      batch_size: int = 32,\n",
    "                      num_workers: int = NUM_WORKERS//2):\n",
    "    train_data = datasets.ImageFolder(root=train_dir, transform=transform)\n",
    "    test_data = datasets.ImageFolder(root=test_dir, transform=transform)\n",
    "\n",
    "    class_names = train_data.classes\n",
    "\n",
    "    train_dataloader = DataLoader(dataset=train_data,\n",
    "                                  batch_size=batch_size,\n",
    "                                  shuffle=True,\n",
    "                                  num_workers=num_workers,\n",
    "                                  pin_memory=True)\n",
    "\n",
    "    test_dataloader = DataLoader(dataset=test_data,\n",
    "                                 batch_size=batch_size,\n",
    "                                 shuffle=False,\n",
    "                                 num_workers=num_workers,\n",
    "                                 pin_memory=True)\n",
    "\n",
    "    return train_dataloader, test_dataloader, class_names\n"
   ]
  },
  {
   "cell_type": "code",
   "execution_count": 18,
   "id": "e93d5e1c18ec76b5",
   "metadata": {
    "ExecuteTime": {
     "end_time": "2025-04-27T15:05:12.107897Z",
     "start_time": "2025-04-27T15:05:10.616687Z"
    }
   },
   "outputs": [
    {
     "data": {
      "text/plain": [
       "['Apple 10',\n",
       " 'Apple 11',\n",
       " 'Apple 12',\n",
       " 'Apple 13',\n",
       " 'Apple 14',\n",
       " 'Apple 17',\n",
       " 'Apple 18',\n",
       " 'Apple 19',\n",
       " 'Apple 5',\n",
       " 'Apple 7',\n",
       " 'Apple 8',\n",
       " 'Apple 9',\n",
       " 'Apple Core 1',\n",
       " 'Apple Red Yellow 2',\n",
       " 'Apple worm 1',\n",
       " 'Banana 3',\n",
       " 'Beans 1',\n",
       " 'Blackberrie 1',\n",
       " 'Blackberrie 2',\n",
       " 'Blackberrie half rippen 1',\n",
       " 'Blackberrie not rippen 1',\n",
       " 'Cabbage red 1',\n",
       " 'Cactus fruit green 1',\n",
       " 'Cactus fruit red 1',\n",
       " 'Caju seed 1',\n",
       " 'Cherimoya 1',\n",
       " 'Cherry 3',\n",
       " 'Cherry 4',\n",
       " 'Cherry 5',\n",
       " 'Cherry Rainier 2',\n",
       " 'Cherry Rainier 3',\n",
       " 'Cherry Sour 1',\n",
       " 'Cherry Wax Red 2',\n",
       " 'Cherry Wax Red 3',\n",
       " 'Cherry Wax not ripen 1',\n",
       " 'Cherry Wax not ripen 2',\n",
       " 'Cucumber 10',\n",
       " 'Cucumber 9',\n",
       " 'Gooseberry 1',\n",
       " 'Pistachio 1',\n",
       " 'Quince 2',\n",
       " 'Quince 3',\n",
       " 'Quince 4',\n",
       " 'Tomato 1',\n",
       " 'Tomato 10',\n",
       " 'Tomato 5',\n",
       " 'Tomato 7',\n",
       " 'Tomato 8',\n",
       " 'Tomato 9',\n",
       " 'Tomato Cherry Maroon 1',\n",
       " 'Tomato Cherry Orange 1',\n",
       " 'Tomato Cherry Red 2',\n",
       " 'Tomato Cherry Yellow 1',\n",
       " 'Tomato Maroon 2',\n",
       " 'apple_6',\n",
       " 'apple_braeburn_1',\n",
       " 'apple_crimson_snow_1',\n",
       " 'apple_golden_1',\n",
       " 'apple_golden_2',\n",
       " 'apple_golden_3',\n",
       " 'apple_granny_smith_1',\n",
       " 'apple_hit_1',\n",
       " 'apple_pink_lady_1',\n",
       " 'apple_red_1',\n",
       " 'apple_red_2',\n",
       " 'apple_red_3',\n",
       " 'apple_red_delicios_1',\n",
       " 'apple_red_yellow_1',\n",
       " 'apple_rotten_1',\n",
       " 'cabbage_white_1',\n",
       " 'carrot_1',\n",
       " 'cucumber_1',\n",
       " 'cucumber_3',\n",
       " 'eggplant_long_1',\n",
       " 'pear_1',\n",
       " 'pear_3',\n",
       " 'zucchini_1',\n",
       " 'zucchini_dark_1']"
      ]
     },
     "execution_count": 18,
     "metadata": {},
     "output_type": "execute_result"
    }
   ],
   "source": [
    "import os\n",
    "import torchvision\n",
    "from torchvision import datasets\n",
    "from pathlib import Path\n",
    "\n",
    "data_path = Path(\"data\")\n",
    "\n",
    "train_dir = data_path / \"Training\"\n",
    "test_dir = data_path / \"Test\"\n",
    "\n",
    "weights = torchvision.models.ResNet50_Weights.DEFAULT\n",
    "auto_transforms = weights.transforms()\n",
    "\n",
    "train_data = datasets.ImageFolder(root=train_dir, transform=auto_transforms)\n",
    "\n",
    "class_names = train_data.classes\n",
    "class_names"
   ]
  },
  {
   "cell_type": "code",
   "execution_count": 19,
   "id": "f59274eef27d77f",
   "metadata": {
    "ExecuteTime": {
     "end_time": "2025-04-27T15:05:12.127033Z",
     "start_time": "2025-04-27T15:05:12.120376Z"
    }
   },
   "outputs": [
    {
     "name": "stdout",
     "output_type": "stream",
     "text": [
      "Overwriting engine.py\n"
     ]
    }
   ],
   "source": [
    "%%writefile engine.py\n",
    "\n",
    "import torch\n",
    "from tqdm.auto import tqdm\n",
    "from typing import Dict, List, Tuple\n",
    "\n",
    "def train_step(model: torch.nn.Module,\n",
    "               dataloader: torch.utils.data.DataLoader,\n",
    "               loss_fn: torch.nn.Module,\n",
    "               optimizer: torch.optim.Optimizer,\n",
    "               device: torch.device) -> Tuple[float, float]:\n",
    "    model.train()\n",
    "    train_loss, train_acc = 0, 0\n",
    "\n",
    "    for batch, (X, y) in enumerate(dataloader):\n",
    "        X, y = X.to(device), y.to(device)\n",
    "        \n",
    "        y_pred = model(X)\n",
    "        loss = loss_fn(y_pred, y)\n",
    "        train_loss += loss.item()\n",
    "\n",
    "        optimizer.zero_grad()\n",
    "        loss.backward()\n",
    "        optimizer.step()\n",
    "\n",
    "        y_pred_class = torch.argmax(torch.softmax(y_pred, dim=1), dim=1)\n",
    "        train_acc += (y_pred_class == y).sum().item() / len(y_pred)\n",
    "\n",
    "    train_loss /= len(dataloader)\n",
    "    train_acc /= len(dataloader)\n",
    "\n",
    "    return train_loss, train_acc\n",
    "\n",
    "def test_step(model: torch.nn.Module,\n",
    "              dataloader: torch.utils.data.DataLoader,\n",
    "              loss_fn: torch.nn.Module,\n",
    "              device: torch.device) -> Tuple[float, float]:\n",
    "    model.eval()\n",
    "    test_loss, test_acc = 0, 0\n",
    "\n",
    "    with torch.inference_mode():\n",
    "        for batch, (X, y) in enumerate(dataloader):\n",
    "            X, y = X.to(device), y.to(device)\n",
    "            \n",
    "            test_pred_logits = model(X)\n",
    "            loss = loss_fn(test_pred_logits, y)\n",
    "            test_loss += loss.item()\n",
    "\n",
    "            test_pred_labels = test_pred_logits.argmax(dim=1)\n",
    "            test_acc += ((test_pred_labels == y).sum().item()/len(test_pred_labels))\n",
    "\n",
    "    test_loss /= len(dataloader)\n",
    "    test_acc /= len(dataloader)\n",
    "\n",
    "    return test_loss, test_acc\n",
    "\n",
    "def train(model: torch.nn.Module,\n",
    "          train_dataloader: torch.utils.data.DataLoader,\n",
    "          test_dataloader: torch.utils.data.DataLoader,\n",
    "          optimizer: torch.optim.Optimizer,\n",
    "          loss_fn: torch.nn.Module,\n",
    "          epochs: int,\n",
    "          device: torch.device,\n",
    "          scheduler: torch.optim.lr_scheduler._LRScheduler = None,\n",
    "          save_dir: str=\"models\",\n",
    "          best_model_name: str=\"best_model.pth\") -> Dict[str, List]:\n",
    "    from pathlib import Path\n",
    "    import torch\n",
    "\n",
    "    results = {\n",
    "        \"train_loss\": [],\n",
    "        \"train_acc\": [],\n",
    "        \"test_loss\": [],\n",
    "        \"test_acc\": []\n",
    "    }\n",
    "\n",
    "    best_loss = float(\"inf\")\n",
    "    save_path = Path(save_dir) / best_model_name\n",
    "    save_path.parent.mkdir(parents=True, exist_ok=True)\n",
    "\n",
    "    for epoch in tqdm(range(epochs)):\n",
    "        train_loss, train_acc = train_step(model=model,\n",
    "                                           dataloader=train_dataloader,\n",
    "                                           loss_fn=loss_fn,\n",
    "                                           optimizer=optimizer,\n",
    "                                           device=device)\n",
    "\n",
    "        test_loss, test_acc = test_step(model=model,\n",
    "                                        dataloader=test_dataloader,\n",
    "                                        loss_fn=loss_fn,\n",
    "                                        device=device)\n",
    "\n",
    "        if scheduler is not None:\n",
    "            scheduler.step(test_loss)\n",
    "\n",
    "        print(\n",
    "            f\"Epoch: {epoch + 1} | \"\n",
    "            f\"train_loss: {train_loss:.4f} | \"\n",
    "            f\"train_acc: {train_acc:.4f} | \"\n",
    "            f\"test_loss: {test_loss:.4f} | \"\n",
    "            f\"test_acc: {test_acc:.4f}\"\n",
    "        )\n",
    "\n",
    "        results[\"train_loss\"].append(train_loss)\n",
    "        results[\"train_acc\"].append(train_acc)\n",
    "        results[\"test_loss\"].append(test_loss)\n",
    "        results[\"test_acc\"].append(test_acc)\n",
    "\n",
    "        if test_loss < best_loss:\n",
    "            best_loss = test_loss\n",
    "            print(f\"[INFO] Saving best model at epoch {epoch + 1} with test loss: {best_loss:.4f}\")\n",
    "            torch.save(model.state_dict(), save_path)\n",
    "\n",
    "    return results\n"
   ]
  },
  {
   "cell_type": "code",
   "execution_count": 20,
   "id": "d64802231047a696",
   "metadata": {
    "ExecuteTime": {
     "end_time": "2025-04-27T15:05:12.162629Z",
     "start_time": "2025-04-27T15:05:12.158217Z"
    }
   },
   "outputs": [
    {
     "name": "stdout",
     "output_type": "stream",
     "text": [
      "Overwriting utils.py\n"
     ]
    }
   ],
   "source": [
    "%%writefile utils.py\n",
    "\n",
    "import torch\n",
    "from pathlib import Path\n",
    "\n",
    "\n",
    "def save_model(model: torch.nn.Module,\n",
    "               target_dir: str,\n",
    "               model_name: str):\n",
    "    target_dir_path = Path(target_dir)\n",
    "    target_dir_path.mkdir(parents=True, exist_ok=True)\n",
    "\n",
    "    assert model_name.endswith(\".pth\") or model_name.endswith(\".pt\"), \"Model name must end with .pth or .pt\"\n",
    "\n",
    "    model_save_path = target_dir_path / model_name\n",
    "\n",
    "    print(\"[INFO] Saving model to:\", model_save_path)\n",
    "    torch.save(model.state_dict(), model_save_path)"
   ]
  },
  {
   "cell_type": "markdown",
   "id": "254e19e36fd7070e",
   "metadata": {},
   "source": [
    "# Get the model"
   ]
  },
  {
   "cell_type": "markdown",
   "id": "34ed79aa1f8ff047",
   "metadata": {},
   "source": [
    "### Create datdasets and dataloaders"
   ]
  },
  {
   "cell_type": "code",
   "execution_count": 21,
   "id": "12d37fc35b98826",
   "metadata": {
    "ExecuteTime": {
     "end_time": "2025-04-27T15:05:12.191844Z",
     "start_time": "2025-04-27T15:05:12.188067Z"
    }
   },
   "outputs": [],
   "source": [
    "import torchvision\n",
    "from torchvision import transforms\n",
    "\n",
    "weights = torchvision.models.EfficientNet_B2_Weights.DEFAULT\n",
    "weights.transforms()\n",
    "\n",
    "manual_transform = transforms.Compose([\n",
    "    transforms.Resize((100,100)),\n",
    "    transforms.ToTensor(),\n",
    "    transforms.Normalize(mean=[0.485, 0.456, 0.406],\n",
    "                         std=[0.229, 0.224, 0.225])\n",
    "])"
   ]
  },
  {
   "cell_type": "code",
   "execution_count": 22,
   "id": "ba19a8041a3c5922",
   "metadata": {
    "ExecuteTime": {
     "end_time": "2025-04-27T15:05:12.218004Z",
     "start_time": "2025-04-27T15:05:12.213601Z"
    }
   },
   "outputs": [
    {
     "data": {
      "text/plain": [
       "ImageClassification(\n",
       "    crop_size=[288]\n",
       "    resize_size=[288]\n",
       "    mean=[0.485, 0.456, 0.406]\n",
       "    std=[0.229, 0.224, 0.225]\n",
       "    interpolation=InterpolationMode.BICUBIC\n",
       ")"
      ]
     },
     "execution_count": 22,
     "metadata": {},
     "output_type": "execute_result"
    }
   ],
   "source": [
    "auto_transforms = weights.transforms()\n",
    "auto_transforms"
   ]
  },
  {
   "cell_type": "code",
   "execution_count": 23,
   "id": "c5de4a725ab79a3c",
   "metadata": {
    "ExecuteTime": {
     "end_time": "2025-04-27T15:05:12.566137Z",
     "start_time": "2025-04-27T15:05:12.240079Z"
    }
   },
   "outputs": [
    {
     "data": {
      "text/plain": [
       "(<torch.utils.data.dataloader.DataLoader at 0x2495b611b20>,\n",
       " <torch.utils.data.dataloader.DataLoader at 0x2495b6123f0>,\n",
       " ['Apple 10',\n",
       "  'Apple 11',\n",
       "  'Apple 12',\n",
       "  'Apple 13',\n",
       "  'Apple 14',\n",
       "  'Apple 17',\n",
       "  'Apple 18',\n",
       "  'Apple 19',\n",
       "  'Apple 5',\n",
       "  'Apple 7',\n",
       "  'Apple 8',\n",
       "  'Apple 9',\n",
       "  'Apple Core 1',\n",
       "  'Apple Red Yellow 2',\n",
       "  'Apple worm 1',\n",
       "  'Banana 3',\n",
       "  'Beans 1',\n",
       "  'Blackberrie 1',\n",
       "  'Blackberrie 2',\n",
       "  'Blackberrie half rippen 1',\n",
       "  'Blackberrie not rippen 1',\n",
       "  'Cabbage red 1',\n",
       "  'Cactus fruit green 1',\n",
       "  'Cactus fruit red 1',\n",
       "  'Caju seed 1',\n",
       "  'Cherimoya 1',\n",
       "  'Cherry 3',\n",
       "  'Cherry 4',\n",
       "  'Cherry 5',\n",
       "  'Cherry Rainier 2',\n",
       "  'Cherry Rainier 3',\n",
       "  'Cherry Sour 1',\n",
       "  'Cherry Wax Red 2',\n",
       "  'Cherry Wax Red 3',\n",
       "  'Cherry Wax not ripen 1',\n",
       "  'Cherry Wax not ripen 2',\n",
       "  'Cucumber 10',\n",
       "  'Cucumber 9',\n",
       "  'Gooseberry 1',\n",
       "  'Pistachio 1',\n",
       "  'Quince 2',\n",
       "  'Quince 3',\n",
       "  'Quince 4',\n",
       "  'Tomato 1',\n",
       "  'Tomato 10',\n",
       "  'Tomato 5',\n",
       "  'Tomato 7',\n",
       "  'Tomato 8',\n",
       "  'Tomato 9',\n",
       "  'Tomato Cherry Maroon 1',\n",
       "  'Tomato Cherry Orange 1',\n",
       "  'Tomato Cherry Red 2',\n",
       "  'Tomato Cherry Yellow 1',\n",
       "  'Tomato Maroon 2',\n",
       "  'apple_6',\n",
       "  'apple_braeburn_1',\n",
       "  'apple_crimson_snow_1',\n",
       "  'apple_golden_1',\n",
       "  'apple_golden_2',\n",
       "  'apple_golden_3',\n",
       "  'apple_granny_smith_1',\n",
       "  'apple_hit_1',\n",
       "  'apple_pink_lady_1',\n",
       "  'apple_red_1',\n",
       "  'apple_red_2',\n",
       "  'apple_red_3',\n",
       "  'apple_red_delicios_1',\n",
       "  'apple_red_yellow_1',\n",
       "  'apple_rotten_1',\n",
       "  'cabbage_white_1',\n",
       "  'carrot_1',\n",
       "  'cucumber_1',\n",
       "  'cucumber_3',\n",
       "  'eggplant_long_1',\n",
       "  'pear_1',\n",
       "  'pear_3',\n",
       "  'zucchini_1',\n",
       "  'zucchini_dark_1'])"
      ]
     },
     "execution_count": 23,
     "metadata": {},
     "output_type": "execute_result"
    }
   ],
   "source": [
    "import data_setup\n",
    "\n",
    "train_transform = transforms.Compose([\n",
    "    transforms.Resize((260, 260)),\n",
    "    transforms.RandomHorizontalFlip(p=0.5),\n",
    "    transforms.RandomRotation(degrees=20),\n",
    "    transforms.ColorJitter(brightness=0.3, contrast=0.3, saturation=0.3, hue=0.1),\n",
    "    transforms.RandomAffine(degrees=10, translate=(0.1, 0.1)),\n",
    "    transforms.ToTensor(),\n",
    "    transforms.Normalize(mean=[0.485, 0.456, 0.406],\n",
    "                         std=[0.229, 0.224, 0.225])\n",
    "])\n",
    "\n",
    "test_transform = transforms.Compose([\n",
    "    transforms.Resize((260,260)),\n",
    "    transforms.ToTensor(),\n",
    "    transforms.Normalize(mean=[0.485, 0.456, 0.406],\n",
    "                         std=[0.229, 0.224, 0.225])\n",
    "])\n",
    "\n",
    "train_dataloader, test_dataloader, class_names = data_setup.create_dataloader(train_dir=train_dir,\n",
    "                                                                              test_dir=test_dir,\n",
    "                                                                              transform=train_transform,\n",
    "                                                                              batch_size=32)\n",
    "\n",
    "train_dataloader, test_dataloader, class_names"
   ]
  },
  {
   "cell_type": "code",
   "execution_count": 24,
   "id": "ae4a69713c16904a",
   "metadata": {
    "ExecuteTime": {
     "end_time": "2025-04-27T15:05:12.581197Z",
     "start_time": "2025-04-27T15:05:12.576847Z"
    }
   },
   "outputs": [
    {
     "data": {
      "text/plain": [
       "78"
      ]
     },
     "execution_count": 24,
     "metadata": {},
     "output_type": "execute_result"
    }
   ],
   "source": [
    "len(class_names)"
   ]
  },
  {
   "cell_type": "markdown",
   "id": "d65ab268d09b6eee",
   "metadata": {},
   "source": [
    "## Getting a pretrained model"
   ]
  },
  {
   "cell_type": "code",
   "execution_count": 25,
   "id": "39f8fe3a79eefe93",
   "metadata": {
    "ExecuteTime": {
     "end_time": "2025-04-27T15:05:12.904018Z",
     "start_time": "2025-04-27T15:05:12.607152Z"
    }
   },
   "outputs": [
    {
     "data": {
      "text/plain": [
       "EfficientNet(\n",
       "  (features): Sequential(\n",
       "    (0): Conv2dNormActivation(\n",
       "      (0): Conv2d(3, 32, kernel_size=(3, 3), stride=(2, 2), padding=(1, 1), bias=False)\n",
       "      (1): BatchNorm2d(32, eps=1e-05, momentum=0.1, affine=True, track_running_stats=True)\n",
       "      (2): SiLU(inplace=True)\n",
       "    )\n",
       "    (1): Sequential(\n",
       "      (0): MBConv(\n",
       "        (block): Sequential(\n",
       "          (0): Conv2dNormActivation(\n",
       "            (0): Conv2d(32, 32, kernel_size=(3, 3), stride=(1, 1), padding=(1, 1), groups=32, bias=False)\n",
       "            (1): BatchNorm2d(32, eps=1e-05, momentum=0.1, affine=True, track_running_stats=True)\n",
       "            (2): SiLU(inplace=True)\n",
       "          )\n",
       "          (1): SqueezeExcitation(\n",
       "            (avgpool): AdaptiveAvgPool2d(output_size=1)\n",
       "            (fc1): Conv2d(32, 8, kernel_size=(1, 1), stride=(1, 1))\n",
       "            (fc2): Conv2d(8, 32, kernel_size=(1, 1), stride=(1, 1))\n",
       "            (activation): SiLU(inplace=True)\n",
       "            (scale_activation): Sigmoid()\n",
       "          )\n",
       "          (2): Conv2dNormActivation(\n",
       "            (0): Conv2d(32, 16, kernel_size=(1, 1), stride=(1, 1), bias=False)\n",
       "            (1): BatchNorm2d(16, eps=1e-05, momentum=0.1, affine=True, track_running_stats=True)\n",
       "          )\n",
       "        )\n",
       "        (stochastic_depth): StochasticDepth(p=0.0, mode=row)\n",
       "      )\n",
       "    )\n",
       "    (2): Sequential(\n",
       "      (0): MBConv(\n",
       "        (block): Sequential(\n",
       "          (0): Conv2dNormActivation(\n",
       "            (0): Conv2d(16, 96, kernel_size=(1, 1), stride=(1, 1), bias=False)\n",
       "            (1): BatchNorm2d(96, eps=1e-05, momentum=0.1, affine=True, track_running_stats=True)\n",
       "            (2): SiLU(inplace=True)\n",
       "          )\n",
       "          (1): Conv2dNormActivation(\n",
       "            (0): Conv2d(96, 96, kernel_size=(3, 3), stride=(2, 2), padding=(1, 1), groups=96, bias=False)\n",
       "            (1): BatchNorm2d(96, eps=1e-05, momentum=0.1, affine=True, track_running_stats=True)\n",
       "            (2): SiLU(inplace=True)\n",
       "          )\n",
       "          (2): SqueezeExcitation(\n",
       "            (avgpool): AdaptiveAvgPool2d(output_size=1)\n",
       "            (fc1): Conv2d(96, 4, kernel_size=(1, 1), stride=(1, 1))\n",
       "            (fc2): Conv2d(4, 96, kernel_size=(1, 1), stride=(1, 1))\n",
       "            (activation): SiLU(inplace=True)\n",
       "            (scale_activation): Sigmoid()\n",
       "          )\n",
       "          (3): Conv2dNormActivation(\n",
       "            (0): Conv2d(96, 24, kernel_size=(1, 1), stride=(1, 1), bias=False)\n",
       "            (1): BatchNorm2d(24, eps=1e-05, momentum=0.1, affine=True, track_running_stats=True)\n",
       "          )\n",
       "        )\n",
       "        (stochastic_depth): StochasticDepth(p=0.0125, mode=row)\n",
       "      )\n",
       "      (1): MBConv(\n",
       "        (block): Sequential(\n",
       "          (0): Conv2dNormActivation(\n",
       "            (0): Conv2d(24, 144, kernel_size=(1, 1), stride=(1, 1), bias=False)\n",
       "            (1): BatchNorm2d(144, eps=1e-05, momentum=0.1, affine=True, track_running_stats=True)\n",
       "            (2): SiLU(inplace=True)\n",
       "          )\n",
       "          (1): Conv2dNormActivation(\n",
       "            (0): Conv2d(144, 144, kernel_size=(3, 3), stride=(1, 1), padding=(1, 1), groups=144, bias=False)\n",
       "            (1): BatchNorm2d(144, eps=1e-05, momentum=0.1, affine=True, track_running_stats=True)\n",
       "            (2): SiLU(inplace=True)\n",
       "          )\n",
       "          (2): SqueezeExcitation(\n",
       "            (avgpool): AdaptiveAvgPool2d(output_size=1)\n",
       "            (fc1): Conv2d(144, 6, kernel_size=(1, 1), stride=(1, 1))\n",
       "            (fc2): Conv2d(6, 144, kernel_size=(1, 1), stride=(1, 1))\n",
       "            (activation): SiLU(inplace=True)\n",
       "            (scale_activation): Sigmoid()\n",
       "          )\n",
       "          (3): Conv2dNormActivation(\n",
       "            (0): Conv2d(144, 24, kernel_size=(1, 1), stride=(1, 1), bias=False)\n",
       "            (1): BatchNorm2d(24, eps=1e-05, momentum=0.1, affine=True, track_running_stats=True)\n",
       "          )\n",
       "        )\n",
       "        (stochastic_depth): StochasticDepth(p=0.025, mode=row)\n",
       "      )\n",
       "    )\n",
       "    (3): Sequential(\n",
       "      (0): MBConv(\n",
       "        (block): Sequential(\n",
       "          (0): Conv2dNormActivation(\n",
       "            (0): Conv2d(24, 144, kernel_size=(1, 1), stride=(1, 1), bias=False)\n",
       "            (1): BatchNorm2d(144, eps=1e-05, momentum=0.1, affine=True, track_running_stats=True)\n",
       "            (2): SiLU(inplace=True)\n",
       "          )\n",
       "          (1): Conv2dNormActivation(\n",
       "            (0): Conv2d(144, 144, kernel_size=(5, 5), stride=(2, 2), padding=(2, 2), groups=144, bias=False)\n",
       "            (1): BatchNorm2d(144, eps=1e-05, momentum=0.1, affine=True, track_running_stats=True)\n",
       "            (2): SiLU(inplace=True)\n",
       "          )\n",
       "          (2): SqueezeExcitation(\n",
       "            (avgpool): AdaptiveAvgPool2d(output_size=1)\n",
       "            (fc1): Conv2d(144, 6, kernel_size=(1, 1), stride=(1, 1))\n",
       "            (fc2): Conv2d(6, 144, kernel_size=(1, 1), stride=(1, 1))\n",
       "            (activation): SiLU(inplace=True)\n",
       "            (scale_activation): Sigmoid()\n",
       "          )\n",
       "          (3): Conv2dNormActivation(\n",
       "            (0): Conv2d(144, 40, kernel_size=(1, 1), stride=(1, 1), bias=False)\n",
       "            (1): BatchNorm2d(40, eps=1e-05, momentum=0.1, affine=True, track_running_stats=True)\n",
       "          )\n",
       "        )\n",
       "        (stochastic_depth): StochasticDepth(p=0.037500000000000006, mode=row)\n",
       "      )\n",
       "      (1): MBConv(\n",
       "        (block): Sequential(\n",
       "          (0): Conv2dNormActivation(\n",
       "            (0): Conv2d(40, 240, kernel_size=(1, 1), stride=(1, 1), bias=False)\n",
       "            (1): BatchNorm2d(240, eps=1e-05, momentum=0.1, affine=True, track_running_stats=True)\n",
       "            (2): SiLU(inplace=True)\n",
       "          )\n",
       "          (1): Conv2dNormActivation(\n",
       "            (0): Conv2d(240, 240, kernel_size=(5, 5), stride=(1, 1), padding=(2, 2), groups=240, bias=False)\n",
       "            (1): BatchNorm2d(240, eps=1e-05, momentum=0.1, affine=True, track_running_stats=True)\n",
       "            (2): SiLU(inplace=True)\n",
       "          )\n",
       "          (2): SqueezeExcitation(\n",
       "            (avgpool): AdaptiveAvgPool2d(output_size=1)\n",
       "            (fc1): Conv2d(240, 10, kernel_size=(1, 1), stride=(1, 1))\n",
       "            (fc2): Conv2d(10, 240, kernel_size=(1, 1), stride=(1, 1))\n",
       "            (activation): SiLU(inplace=True)\n",
       "            (scale_activation): Sigmoid()\n",
       "          )\n",
       "          (3): Conv2dNormActivation(\n",
       "            (0): Conv2d(240, 40, kernel_size=(1, 1), stride=(1, 1), bias=False)\n",
       "            (1): BatchNorm2d(40, eps=1e-05, momentum=0.1, affine=True, track_running_stats=True)\n",
       "          )\n",
       "        )\n",
       "        (stochastic_depth): StochasticDepth(p=0.05, mode=row)\n",
       "      )\n",
       "    )\n",
       "    (4): Sequential(\n",
       "      (0): MBConv(\n",
       "        (block): Sequential(\n",
       "          (0): Conv2dNormActivation(\n",
       "            (0): Conv2d(40, 240, kernel_size=(1, 1), stride=(1, 1), bias=False)\n",
       "            (1): BatchNorm2d(240, eps=1e-05, momentum=0.1, affine=True, track_running_stats=True)\n",
       "            (2): SiLU(inplace=True)\n",
       "          )\n",
       "          (1): Conv2dNormActivation(\n",
       "            (0): Conv2d(240, 240, kernel_size=(3, 3), stride=(2, 2), padding=(1, 1), groups=240, bias=False)\n",
       "            (1): BatchNorm2d(240, eps=1e-05, momentum=0.1, affine=True, track_running_stats=True)\n",
       "            (2): SiLU(inplace=True)\n",
       "          )\n",
       "          (2): SqueezeExcitation(\n",
       "            (avgpool): AdaptiveAvgPool2d(output_size=1)\n",
       "            (fc1): Conv2d(240, 10, kernel_size=(1, 1), stride=(1, 1))\n",
       "            (fc2): Conv2d(10, 240, kernel_size=(1, 1), stride=(1, 1))\n",
       "            (activation): SiLU(inplace=True)\n",
       "            (scale_activation): Sigmoid()\n",
       "          )\n",
       "          (3): Conv2dNormActivation(\n",
       "            (0): Conv2d(240, 80, kernel_size=(1, 1), stride=(1, 1), bias=False)\n",
       "            (1): BatchNorm2d(80, eps=1e-05, momentum=0.1, affine=True, track_running_stats=True)\n",
       "          )\n",
       "        )\n",
       "        (stochastic_depth): StochasticDepth(p=0.0625, mode=row)\n",
       "      )\n",
       "      (1): MBConv(\n",
       "        (block): Sequential(\n",
       "          (0): Conv2dNormActivation(\n",
       "            (0): Conv2d(80, 480, kernel_size=(1, 1), stride=(1, 1), bias=False)\n",
       "            (1): BatchNorm2d(480, eps=1e-05, momentum=0.1, affine=True, track_running_stats=True)\n",
       "            (2): SiLU(inplace=True)\n",
       "          )\n",
       "          (1): Conv2dNormActivation(\n",
       "            (0): Conv2d(480, 480, kernel_size=(3, 3), stride=(1, 1), padding=(1, 1), groups=480, bias=False)\n",
       "            (1): BatchNorm2d(480, eps=1e-05, momentum=0.1, affine=True, track_running_stats=True)\n",
       "            (2): SiLU(inplace=True)\n",
       "          )\n",
       "          (2): SqueezeExcitation(\n",
       "            (avgpool): AdaptiveAvgPool2d(output_size=1)\n",
       "            (fc1): Conv2d(480, 20, kernel_size=(1, 1), stride=(1, 1))\n",
       "            (fc2): Conv2d(20, 480, kernel_size=(1, 1), stride=(1, 1))\n",
       "            (activation): SiLU(inplace=True)\n",
       "            (scale_activation): Sigmoid()\n",
       "          )\n",
       "          (3): Conv2dNormActivation(\n",
       "            (0): Conv2d(480, 80, kernel_size=(1, 1), stride=(1, 1), bias=False)\n",
       "            (1): BatchNorm2d(80, eps=1e-05, momentum=0.1, affine=True, track_running_stats=True)\n",
       "          )\n",
       "        )\n",
       "        (stochastic_depth): StochasticDepth(p=0.07500000000000001, mode=row)\n",
       "      )\n",
       "      (2): MBConv(\n",
       "        (block): Sequential(\n",
       "          (0): Conv2dNormActivation(\n",
       "            (0): Conv2d(80, 480, kernel_size=(1, 1), stride=(1, 1), bias=False)\n",
       "            (1): BatchNorm2d(480, eps=1e-05, momentum=0.1, affine=True, track_running_stats=True)\n",
       "            (2): SiLU(inplace=True)\n",
       "          )\n",
       "          (1): Conv2dNormActivation(\n",
       "            (0): Conv2d(480, 480, kernel_size=(3, 3), stride=(1, 1), padding=(1, 1), groups=480, bias=False)\n",
       "            (1): BatchNorm2d(480, eps=1e-05, momentum=0.1, affine=True, track_running_stats=True)\n",
       "            (2): SiLU(inplace=True)\n",
       "          )\n",
       "          (2): SqueezeExcitation(\n",
       "            (avgpool): AdaptiveAvgPool2d(output_size=1)\n",
       "            (fc1): Conv2d(480, 20, kernel_size=(1, 1), stride=(1, 1))\n",
       "            (fc2): Conv2d(20, 480, kernel_size=(1, 1), stride=(1, 1))\n",
       "            (activation): SiLU(inplace=True)\n",
       "            (scale_activation): Sigmoid()\n",
       "          )\n",
       "          (3): Conv2dNormActivation(\n",
       "            (0): Conv2d(480, 80, kernel_size=(1, 1), stride=(1, 1), bias=False)\n",
       "            (1): BatchNorm2d(80, eps=1e-05, momentum=0.1, affine=True, track_running_stats=True)\n",
       "          )\n",
       "        )\n",
       "        (stochastic_depth): StochasticDepth(p=0.08750000000000001, mode=row)\n",
       "      )\n",
       "    )\n",
       "    (5): Sequential(\n",
       "      (0): MBConv(\n",
       "        (block): Sequential(\n",
       "          (0): Conv2dNormActivation(\n",
       "            (0): Conv2d(80, 480, kernel_size=(1, 1), stride=(1, 1), bias=False)\n",
       "            (1): BatchNorm2d(480, eps=1e-05, momentum=0.1, affine=True, track_running_stats=True)\n",
       "            (2): SiLU(inplace=True)\n",
       "          )\n",
       "          (1): Conv2dNormActivation(\n",
       "            (0): Conv2d(480, 480, kernel_size=(5, 5), stride=(1, 1), padding=(2, 2), groups=480, bias=False)\n",
       "            (1): BatchNorm2d(480, eps=1e-05, momentum=0.1, affine=True, track_running_stats=True)\n",
       "            (2): SiLU(inplace=True)\n",
       "          )\n",
       "          (2): SqueezeExcitation(\n",
       "            (avgpool): AdaptiveAvgPool2d(output_size=1)\n",
       "            (fc1): Conv2d(480, 20, kernel_size=(1, 1), stride=(1, 1))\n",
       "            (fc2): Conv2d(20, 480, kernel_size=(1, 1), stride=(1, 1))\n",
       "            (activation): SiLU(inplace=True)\n",
       "            (scale_activation): Sigmoid()\n",
       "          )\n",
       "          (3): Conv2dNormActivation(\n",
       "            (0): Conv2d(480, 112, kernel_size=(1, 1), stride=(1, 1), bias=False)\n",
       "            (1): BatchNorm2d(112, eps=1e-05, momentum=0.1, affine=True, track_running_stats=True)\n",
       "          )\n",
       "        )\n",
       "        (stochastic_depth): StochasticDepth(p=0.1, mode=row)\n",
       "      )\n",
       "      (1): MBConv(\n",
       "        (block): Sequential(\n",
       "          (0): Conv2dNormActivation(\n",
       "            (0): Conv2d(112, 672, kernel_size=(1, 1), stride=(1, 1), bias=False)\n",
       "            (1): BatchNorm2d(672, eps=1e-05, momentum=0.1, affine=True, track_running_stats=True)\n",
       "            (2): SiLU(inplace=True)\n",
       "          )\n",
       "          (1): Conv2dNormActivation(\n",
       "            (0): Conv2d(672, 672, kernel_size=(5, 5), stride=(1, 1), padding=(2, 2), groups=672, bias=False)\n",
       "            (1): BatchNorm2d(672, eps=1e-05, momentum=0.1, affine=True, track_running_stats=True)\n",
       "            (2): SiLU(inplace=True)\n",
       "          )\n",
       "          (2): SqueezeExcitation(\n",
       "            (avgpool): AdaptiveAvgPool2d(output_size=1)\n",
       "            (fc1): Conv2d(672, 28, kernel_size=(1, 1), stride=(1, 1))\n",
       "            (fc2): Conv2d(28, 672, kernel_size=(1, 1), stride=(1, 1))\n",
       "            (activation): SiLU(inplace=True)\n",
       "            (scale_activation): Sigmoid()\n",
       "          )\n",
       "          (3): Conv2dNormActivation(\n",
       "            (0): Conv2d(672, 112, kernel_size=(1, 1), stride=(1, 1), bias=False)\n",
       "            (1): BatchNorm2d(112, eps=1e-05, momentum=0.1, affine=True, track_running_stats=True)\n",
       "          )\n",
       "        )\n",
       "        (stochastic_depth): StochasticDepth(p=0.1125, mode=row)\n",
       "      )\n",
       "      (2): MBConv(\n",
       "        (block): Sequential(\n",
       "          (0): Conv2dNormActivation(\n",
       "            (0): Conv2d(112, 672, kernel_size=(1, 1), stride=(1, 1), bias=False)\n",
       "            (1): BatchNorm2d(672, eps=1e-05, momentum=0.1, affine=True, track_running_stats=True)\n",
       "            (2): SiLU(inplace=True)\n",
       "          )\n",
       "          (1): Conv2dNormActivation(\n",
       "            (0): Conv2d(672, 672, kernel_size=(5, 5), stride=(1, 1), padding=(2, 2), groups=672, bias=False)\n",
       "            (1): BatchNorm2d(672, eps=1e-05, momentum=0.1, affine=True, track_running_stats=True)\n",
       "            (2): SiLU(inplace=True)\n",
       "          )\n",
       "          (2): SqueezeExcitation(\n",
       "            (avgpool): AdaptiveAvgPool2d(output_size=1)\n",
       "            (fc1): Conv2d(672, 28, kernel_size=(1, 1), stride=(1, 1))\n",
       "            (fc2): Conv2d(28, 672, kernel_size=(1, 1), stride=(1, 1))\n",
       "            (activation): SiLU(inplace=True)\n",
       "            (scale_activation): Sigmoid()\n",
       "          )\n",
       "          (3): Conv2dNormActivation(\n",
       "            (0): Conv2d(672, 112, kernel_size=(1, 1), stride=(1, 1), bias=False)\n",
       "            (1): BatchNorm2d(112, eps=1e-05, momentum=0.1, affine=True, track_running_stats=True)\n",
       "          )\n",
       "        )\n",
       "        (stochastic_depth): StochasticDepth(p=0.125, mode=row)\n",
       "      )\n",
       "    )\n",
       "    (6): Sequential(\n",
       "      (0): MBConv(\n",
       "        (block): Sequential(\n",
       "          (0): Conv2dNormActivation(\n",
       "            (0): Conv2d(112, 672, kernel_size=(1, 1), stride=(1, 1), bias=False)\n",
       "            (1): BatchNorm2d(672, eps=1e-05, momentum=0.1, affine=True, track_running_stats=True)\n",
       "            (2): SiLU(inplace=True)\n",
       "          )\n",
       "          (1): Conv2dNormActivation(\n",
       "            (0): Conv2d(672, 672, kernel_size=(5, 5), stride=(2, 2), padding=(2, 2), groups=672, bias=False)\n",
       "            (1): BatchNorm2d(672, eps=1e-05, momentum=0.1, affine=True, track_running_stats=True)\n",
       "            (2): SiLU(inplace=True)\n",
       "          )\n",
       "          (2): SqueezeExcitation(\n",
       "            (avgpool): AdaptiveAvgPool2d(output_size=1)\n",
       "            (fc1): Conv2d(672, 28, kernel_size=(1, 1), stride=(1, 1))\n",
       "            (fc2): Conv2d(28, 672, kernel_size=(1, 1), stride=(1, 1))\n",
       "            (activation): SiLU(inplace=True)\n",
       "            (scale_activation): Sigmoid()\n",
       "          )\n",
       "          (3): Conv2dNormActivation(\n",
       "            (0): Conv2d(672, 192, kernel_size=(1, 1), stride=(1, 1), bias=False)\n",
       "            (1): BatchNorm2d(192, eps=1e-05, momentum=0.1, affine=True, track_running_stats=True)\n",
       "          )\n",
       "        )\n",
       "        (stochastic_depth): StochasticDepth(p=0.1375, mode=row)\n",
       "      )\n",
       "      (1): MBConv(\n",
       "        (block): Sequential(\n",
       "          (0): Conv2dNormActivation(\n",
       "            (0): Conv2d(192, 1152, kernel_size=(1, 1), stride=(1, 1), bias=False)\n",
       "            (1): BatchNorm2d(1152, eps=1e-05, momentum=0.1, affine=True, track_running_stats=True)\n",
       "            (2): SiLU(inplace=True)\n",
       "          )\n",
       "          (1): Conv2dNormActivation(\n",
       "            (0): Conv2d(1152, 1152, kernel_size=(5, 5), stride=(1, 1), padding=(2, 2), groups=1152, bias=False)\n",
       "            (1): BatchNorm2d(1152, eps=1e-05, momentum=0.1, affine=True, track_running_stats=True)\n",
       "            (2): SiLU(inplace=True)\n",
       "          )\n",
       "          (2): SqueezeExcitation(\n",
       "            (avgpool): AdaptiveAvgPool2d(output_size=1)\n",
       "            (fc1): Conv2d(1152, 48, kernel_size=(1, 1), stride=(1, 1))\n",
       "            (fc2): Conv2d(48, 1152, kernel_size=(1, 1), stride=(1, 1))\n",
       "            (activation): SiLU(inplace=True)\n",
       "            (scale_activation): Sigmoid()\n",
       "          )\n",
       "          (3): Conv2dNormActivation(\n",
       "            (0): Conv2d(1152, 192, kernel_size=(1, 1), stride=(1, 1), bias=False)\n",
       "            (1): BatchNorm2d(192, eps=1e-05, momentum=0.1, affine=True, track_running_stats=True)\n",
       "          )\n",
       "        )\n",
       "        (stochastic_depth): StochasticDepth(p=0.15000000000000002, mode=row)\n",
       "      )\n",
       "      (2): MBConv(\n",
       "        (block): Sequential(\n",
       "          (0): Conv2dNormActivation(\n",
       "            (0): Conv2d(192, 1152, kernel_size=(1, 1), stride=(1, 1), bias=False)\n",
       "            (1): BatchNorm2d(1152, eps=1e-05, momentum=0.1, affine=True, track_running_stats=True)\n",
       "            (2): SiLU(inplace=True)\n",
       "          )\n",
       "          (1): Conv2dNormActivation(\n",
       "            (0): Conv2d(1152, 1152, kernel_size=(5, 5), stride=(1, 1), padding=(2, 2), groups=1152, bias=False)\n",
       "            (1): BatchNorm2d(1152, eps=1e-05, momentum=0.1, affine=True, track_running_stats=True)\n",
       "            (2): SiLU(inplace=True)\n",
       "          )\n",
       "          (2): SqueezeExcitation(\n",
       "            (avgpool): AdaptiveAvgPool2d(output_size=1)\n",
       "            (fc1): Conv2d(1152, 48, kernel_size=(1, 1), stride=(1, 1))\n",
       "            (fc2): Conv2d(48, 1152, kernel_size=(1, 1), stride=(1, 1))\n",
       "            (activation): SiLU(inplace=True)\n",
       "            (scale_activation): Sigmoid()\n",
       "          )\n",
       "          (3): Conv2dNormActivation(\n",
       "            (0): Conv2d(1152, 192, kernel_size=(1, 1), stride=(1, 1), bias=False)\n",
       "            (1): BatchNorm2d(192, eps=1e-05, momentum=0.1, affine=True, track_running_stats=True)\n",
       "          )\n",
       "        )\n",
       "        (stochastic_depth): StochasticDepth(p=0.1625, mode=row)\n",
       "      )\n",
       "      (3): MBConv(\n",
       "        (block): Sequential(\n",
       "          (0): Conv2dNormActivation(\n",
       "            (0): Conv2d(192, 1152, kernel_size=(1, 1), stride=(1, 1), bias=False)\n",
       "            (1): BatchNorm2d(1152, eps=1e-05, momentum=0.1, affine=True, track_running_stats=True)\n",
       "            (2): SiLU(inplace=True)\n",
       "          )\n",
       "          (1): Conv2dNormActivation(\n",
       "            (0): Conv2d(1152, 1152, kernel_size=(5, 5), stride=(1, 1), padding=(2, 2), groups=1152, bias=False)\n",
       "            (1): BatchNorm2d(1152, eps=1e-05, momentum=0.1, affine=True, track_running_stats=True)\n",
       "            (2): SiLU(inplace=True)\n",
       "          )\n",
       "          (2): SqueezeExcitation(\n",
       "            (avgpool): AdaptiveAvgPool2d(output_size=1)\n",
       "            (fc1): Conv2d(1152, 48, kernel_size=(1, 1), stride=(1, 1))\n",
       "            (fc2): Conv2d(48, 1152, kernel_size=(1, 1), stride=(1, 1))\n",
       "            (activation): SiLU(inplace=True)\n",
       "            (scale_activation): Sigmoid()\n",
       "          )\n",
       "          (3): Conv2dNormActivation(\n",
       "            (0): Conv2d(1152, 192, kernel_size=(1, 1), stride=(1, 1), bias=False)\n",
       "            (1): BatchNorm2d(192, eps=1e-05, momentum=0.1, affine=True, track_running_stats=True)\n",
       "          )\n",
       "        )\n",
       "        (stochastic_depth): StochasticDepth(p=0.17500000000000002, mode=row)\n",
       "      )\n",
       "    )\n",
       "    (7): Sequential(\n",
       "      (0): MBConv(\n",
       "        (block): Sequential(\n",
       "          (0): Conv2dNormActivation(\n",
       "            (0): Conv2d(192, 1152, kernel_size=(1, 1), stride=(1, 1), bias=False)\n",
       "            (1): BatchNorm2d(1152, eps=1e-05, momentum=0.1, affine=True, track_running_stats=True)\n",
       "            (2): SiLU(inplace=True)\n",
       "          )\n",
       "          (1): Conv2dNormActivation(\n",
       "            (0): Conv2d(1152, 1152, kernel_size=(3, 3), stride=(1, 1), padding=(1, 1), groups=1152, bias=False)\n",
       "            (1): BatchNorm2d(1152, eps=1e-05, momentum=0.1, affine=True, track_running_stats=True)\n",
       "            (2): SiLU(inplace=True)\n",
       "          )\n",
       "          (2): SqueezeExcitation(\n",
       "            (avgpool): AdaptiveAvgPool2d(output_size=1)\n",
       "            (fc1): Conv2d(1152, 48, kernel_size=(1, 1), stride=(1, 1))\n",
       "            (fc2): Conv2d(48, 1152, kernel_size=(1, 1), stride=(1, 1))\n",
       "            (activation): SiLU(inplace=True)\n",
       "            (scale_activation): Sigmoid()\n",
       "          )\n",
       "          (3): Conv2dNormActivation(\n",
       "            (0): Conv2d(1152, 320, kernel_size=(1, 1), stride=(1, 1), bias=False)\n",
       "            (1): BatchNorm2d(320, eps=1e-05, momentum=0.1, affine=True, track_running_stats=True)\n",
       "          )\n",
       "        )\n",
       "        (stochastic_depth): StochasticDepth(p=0.1875, mode=row)\n",
       "      )\n",
       "    )\n",
       "    (8): Conv2dNormActivation(\n",
       "      (0): Conv2d(320, 1280, kernel_size=(1, 1), stride=(1, 1), bias=False)\n",
       "      (1): BatchNorm2d(1280, eps=1e-05, momentum=0.1, affine=True, track_running_stats=True)\n",
       "      (2): SiLU(inplace=True)\n",
       "    )\n",
       "  )\n",
       "  (avgpool): AdaptiveAvgPool2d(output_size=1)\n",
       "  (classifier): Sequential(\n",
       "    (0): Dropout(p=0.2, inplace=True)\n",
       "    (1): Linear(in_features=1280, out_features=1000, bias=True)\n",
       "  )\n",
       ")"
      ]
     },
     "execution_count": 25,
     "metadata": {},
     "output_type": "execute_result"
    }
   ],
   "source": [
    "weights = torchvision.models.EfficientNet_B0_Weights.DEFAULT\n",
    "model = torchvision.models.efficientnet_b0(weights=weights).to(device)\n",
    "model"
   ]
  },
  {
   "cell_type": "code",
   "execution_count": 26,
   "id": "c2d3164eed890afc",
   "metadata": {
    "ExecuteTime": {
     "end_time": "2025-04-27T15:05:13.357401Z",
     "start_time": "2025-04-27T15:05:12.916434Z"
    }
   },
   "outputs": [
    {
     "data": {
      "text/plain": [
       "============================================================================================================================================\n",
       "Layer (type (var_name))                                      Input Shape          Output Shape         Param #              Trainable\n",
       "============================================================================================================================================\n",
       "EfficientNet (EfficientNet)                                  [1, 3, 260, 260]     [1, 1000]            --                   True\n",
       "├─Sequential (features)                                      [1, 3, 260, 260]     [1, 1280, 9, 9]      --                   True\n",
       "│    └─Conv2dNormActivation (0)                              [1, 3, 260, 260]     [1, 32, 130, 130]    --                   True\n",
       "│    │    └─Conv2d (0)                                       [1, 3, 260, 260]     [1, 32, 130, 130]    864                  True\n",
       "│    │    └─BatchNorm2d (1)                                  [1, 32, 130, 130]    [1, 32, 130, 130]    64                   True\n",
       "│    │    └─SiLU (2)                                         [1, 32, 130, 130]    [1, 32, 130, 130]    --                   --\n",
       "│    └─Sequential (1)                                        [1, 32, 130, 130]    [1, 16, 130, 130]    --                   True\n",
       "│    │    └─MBConv (0)                                       [1, 32, 130, 130]    [1, 16, 130, 130]    1,448                True\n",
       "│    └─Sequential (2)                                        [1, 16, 130, 130]    [1, 24, 65, 65]      --                   True\n",
       "│    │    └─MBConv (0)                                       [1, 16, 130, 130]    [1, 24, 65, 65]      6,004                True\n",
       "│    │    └─MBConv (1)                                       [1, 24, 65, 65]      [1, 24, 65, 65]      10,710               True\n",
       "│    └─Sequential (3)                                        [1, 24, 65, 65]      [1, 40, 33, 33]      --                   True\n",
       "│    │    └─MBConv (0)                                       [1, 24, 65, 65]      [1, 40, 33, 33]      15,350               True\n",
       "│    │    └─MBConv (1)                                       [1, 40, 33, 33]      [1, 40, 33, 33]      31,290               True\n",
       "│    └─Sequential (4)                                        [1, 40, 33, 33]      [1, 80, 17, 17]      --                   True\n",
       "│    │    └─MBConv (0)                                       [1, 40, 33, 33]      [1, 80, 17, 17]      37,130               True\n",
       "│    │    └─MBConv (1)                                       [1, 80, 17, 17]      [1, 80, 17, 17]      102,900              True\n",
       "│    │    └─MBConv (2)                                       [1, 80, 17, 17]      [1, 80, 17, 17]      102,900              True\n",
       "│    └─Sequential (5)                                        [1, 80, 17, 17]      [1, 112, 17, 17]     --                   True\n",
       "│    │    └─MBConv (0)                                       [1, 80, 17, 17]      [1, 112, 17, 17]     126,004              True\n",
       "│    │    └─MBConv (1)                                       [1, 112, 17, 17]     [1, 112, 17, 17]     208,572              True\n",
       "│    │    └─MBConv (2)                                       [1, 112, 17, 17]     [1, 112, 17, 17]     208,572              True\n",
       "│    └─Sequential (6)                                        [1, 112, 17, 17]     [1, 192, 9, 9]       --                   True\n",
       "│    │    └─MBConv (0)                                       [1, 112, 17, 17]     [1, 192, 9, 9]       262,492              True\n",
       "│    │    └─MBConv (1)                                       [1, 192, 9, 9]       [1, 192, 9, 9]       587,952              True\n",
       "│    │    └─MBConv (2)                                       [1, 192, 9, 9]       [1, 192, 9, 9]       587,952              True\n",
       "│    │    └─MBConv (3)                                       [1, 192, 9, 9]       [1, 192, 9, 9]       587,952              True\n",
       "│    └─Sequential (7)                                        [1, 192, 9, 9]       [1, 320, 9, 9]       --                   True\n",
       "│    │    └─MBConv (0)                                       [1, 192, 9, 9]       [1, 320, 9, 9]       717,232              True\n",
       "│    └─Conv2dNormActivation (8)                              [1, 320, 9, 9]       [1, 1280, 9, 9]      --                   True\n",
       "│    │    └─Conv2d (0)                                       [1, 320, 9, 9]       [1, 1280, 9, 9]      409,600              True\n",
       "│    │    └─BatchNorm2d (1)                                  [1, 1280, 9, 9]      [1, 1280, 9, 9]      2,560                True\n",
       "│    │    └─SiLU (2)                                         [1, 1280, 9, 9]      [1, 1280, 9, 9]      --                   --\n",
       "├─AdaptiveAvgPool2d (avgpool)                                [1, 1280, 9, 9]      [1, 1280, 1, 1]      --                   --\n",
       "├─Sequential (classifier)                                    [1, 1280]            [1, 1000]            --                   True\n",
       "│    └─Dropout (0)                                           [1, 1280]            [1, 1280]            --                   --\n",
       "│    └─Linear (1)                                            [1, 1280]            [1, 1000]            1,281,000            True\n",
       "============================================================================================================================================\n",
       "Total params: 5,288,548\n",
       "Trainable params: 5,288,548\n",
       "Non-trainable params: 0\n",
       "Total mult-adds (Units.MEGABYTES): 576.52\n",
       "============================================================================================================================================\n",
       "Input size (MB): 0.81\n",
       "Forward/backward pass size (MB): 151.57\n",
       "Params size (MB): 21.15\n",
       "Estimated Total Size (MB): 173.54\n",
       "============================================================================================================================================"
      ]
     },
     "execution_count": 26,
     "metadata": {},
     "output_type": "execute_result"
    }
   ],
   "source": [
    "from torchinfo import summary\n",
    "\n",
    "summary(model=model.to(device),\n",
    "        input_size=(1, 3, 260, 260),\n",
    "        device=device,\n",
    "        col_names=[\"input_size\", \"output_size\", \"num_params\", \"trainable\"],\n",
    "        col_width=20,\n",
    "        row_settings=[\"var_names\"])"
   ]
  },
  {
   "cell_type": "code",
   "execution_count": 27,
   "id": "4ccd96588083c782",
   "metadata": {
    "ExecuteTime": {
     "end_time": "2025-04-27T15:05:13.377621Z",
     "start_time": "2025-04-27T15:05:13.373023Z"
    }
   },
   "outputs": [],
   "source": [
    "for name, param in model.named_parameters():\n",
    "    if \"features.6\" in name or \"features.7\" in name:\n",
    "        param.requires_grad = True\n",
    "    else:\n",
    "    \tparam.requires_grad = False"
   ]
  },
  {
   "cell_type": "code",
   "execution_count": 28,
   "id": "c7f0115c",
   "metadata": {},
   "outputs": [
    {
     "data": {
      "text/plain": [
       "Sequential(\n",
       "  (0): Dropout(p=0.2, inplace=True)\n",
       "  (1): Linear(in_features=1280, out_features=1000, bias=True)\n",
       ")"
      ]
     },
     "execution_count": 28,
     "metadata": {},
     "output_type": "execute_result"
    }
   ],
   "source": [
    "model.classifier"
   ]
  },
  {
   "cell_type": "code",
   "execution_count": 29,
   "id": "75e28ea28eb78ca4",
   "metadata": {
    "ExecuteTime": {
     "end_time": "2025-04-27T15:05:13.509143Z",
     "start_time": "2025-04-27T15:05:13.502142Z"
    }
   },
   "outputs": [
    {
     "data": {
      "text/plain": [
       "Sequential(\n",
       "  (0): Dropout(p=0.3, inplace=True)\n",
       "  (1): Linear(in_features=1280, out_features=78, bias=True)\n",
       ")"
      ]
     },
     "execution_count": 29,
     "metadata": {},
     "output_type": "execute_result"
    }
   ],
   "source": [
    "from torch import nn\n",
    "\n",
    "model.classifier = nn.Sequential(\n",
    "    nn.Dropout(p=0.3, inplace=True),\n",
    "    nn.Linear(in_features=1280, out_features=len(class_names), bias=True)\n",
    ").to(device)\n",
    "\n",
    "model.classifier"
   ]
  },
  {
   "cell_type": "code",
   "execution_count": 30,
   "id": "f36ad91484f0bd3e",
   "metadata": {
    "ExecuteTime": {
     "end_time": "2025-04-27T15:05:13.600495Z",
     "start_time": "2025-04-27T15:05:13.563919Z"
    }
   },
   "outputs": [
    {
     "data": {
      "text/plain": [
       "============================================================================================================================================\n",
       "Layer (type (var_name))                                      Input Shape          Output Shape         Param #              Trainable\n",
       "============================================================================================================================================\n",
       "EfficientNet (EfficientNet)                                  [1, 3, 260, 260]     [1, 78]              --                   Partial\n",
       "├─Sequential (features)                                      [1, 3, 260, 260]     [1, 1280, 9, 9]      --                   Partial\n",
       "│    └─Conv2dNormActivation (0)                              [1, 3, 260, 260]     [1, 32, 130, 130]    --                   False\n",
       "│    │    └─Conv2d (0)                                       [1, 3, 260, 260]     [1, 32, 130, 130]    (864)                False\n",
       "│    │    └─BatchNorm2d (1)                                  [1, 32, 130, 130]    [1, 32, 130, 130]    (64)                 False\n",
       "│    │    └─SiLU (2)                                         [1, 32, 130, 130]    [1, 32, 130, 130]    --                   --\n",
       "│    └─Sequential (1)                                        [1, 32, 130, 130]    [1, 16, 130, 130]    --                   False\n",
       "│    │    └─MBConv (0)                                       [1, 32, 130, 130]    [1, 16, 130, 130]    (1,448)              False\n",
       "│    └─Sequential (2)                                        [1, 16, 130, 130]    [1, 24, 65, 65]      --                   False\n",
       "│    │    └─MBConv (0)                                       [1, 16, 130, 130]    [1, 24, 65, 65]      (6,004)              False\n",
       "│    │    └─MBConv (1)                                       [1, 24, 65, 65]      [1, 24, 65, 65]      (10,710)             False\n",
       "│    └─Sequential (3)                                        [1, 24, 65, 65]      [1, 40, 33, 33]      --                   False\n",
       "│    │    └─MBConv (0)                                       [1, 24, 65, 65]      [1, 40, 33, 33]      (15,350)             False\n",
       "│    │    └─MBConv (1)                                       [1, 40, 33, 33]      [1, 40, 33, 33]      (31,290)             False\n",
       "│    └─Sequential (4)                                        [1, 40, 33, 33]      [1, 80, 17, 17]      --                   False\n",
       "│    │    └─MBConv (0)                                       [1, 40, 33, 33]      [1, 80, 17, 17]      (37,130)             False\n",
       "│    │    └─MBConv (1)                                       [1, 80, 17, 17]      [1, 80, 17, 17]      (102,900)            False\n",
       "│    │    └─MBConv (2)                                       [1, 80, 17, 17]      [1, 80, 17, 17]      (102,900)            False\n",
       "│    └─Sequential (5)                                        [1, 80, 17, 17]      [1, 112, 17, 17]     --                   False\n",
       "│    │    └─MBConv (0)                                       [1, 80, 17, 17]      [1, 112, 17, 17]     (126,004)            False\n",
       "│    │    └─MBConv (1)                                       [1, 112, 17, 17]     [1, 112, 17, 17]     (208,572)            False\n",
       "│    │    └─MBConv (2)                                       [1, 112, 17, 17]     [1, 112, 17, 17]     (208,572)            False\n",
       "│    └─Sequential (6)                                        [1, 112, 17, 17]     [1, 192, 9, 9]       --                   True\n",
       "│    │    └─MBConv (0)                                       [1, 112, 17, 17]     [1, 192, 9, 9]       262,492              True\n",
       "│    │    └─MBConv (1)                                       [1, 192, 9, 9]       [1, 192, 9, 9]       587,952              True\n",
       "│    │    └─MBConv (2)                                       [1, 192, 9, 9]       [1, 192, 9, 9]       587,952              True\n",
       "│    │    └─MBConv (3)                                       [1, 192, 9, 9]       [1, 192, 9, 9]       587,952              True\n",
       "│    └─Sequential (7)                                        [1, 192, 9, 9]       [1, 320, 9, 9]       --                   True\n",
       "│    │    └─MBConv (0)                                       [1, 192, 9, 9]       [1, 320, 9, 9]       717,232              True\n",
       "│    └─Conv2dNormActivation (8)                              [1, 320, 9, 9]       [1, 1280, 9, 9]      --                   False\n",
       "│    │    └─Conv2d (0)                                       [1, 320, 9, 9]       [1, 1280, 9, 9]      (409,600)            False\n",
       "│    │    └─BatchNorm2d (1)                                  [1, 1280, 9, 9]      [1, 1280, 9, 9]      (2,560)              False\n",
       "│    │    └─SiLU (2)                                         [1, 1280, 9, 9]      [1, 1280, 9, 9]      --                   --\n",
       "├─AdaptiveAvgPool2d (avgpool)                                [1, 1280, 9, 9]      [1, 1280, 1, 1]      --                   --\n",
       "├─Sequential (classifier)                                    [1, 1280]            [1, 78]              --                   True\n",
       "│    └─Dropout (0)                                           [1, 1280]            [1, 1280]            --                   --\n",
       "│    └─Linear (1)                                            [1, 1280]            [1, 78]              99,918               True\n",
       "============================================================================================================================================\n",
       "Total params: 4,107,466\n",
       "Trainable params: 2,843,498\n",
       "Non-trainable params: 1,263,968\n",
       "Total mult-adds (Units.MEGABYTES): 575.34\n",
       "============================================================================================================================================\n",
       "Input size (MB): 0.81\n",
       "Forward/backward pass size (MB): 151.56\n",
       "Params size (MB): 16.43\n",
       "Estimated Total Size (MB): 168.80\n",
       "============================================================================================================================================"
      ]
     },
     "execution_count": 30,
     "metadata": {},
     "output_type": "execute_result"
    }
   ],
   "source": [
    "summary(model=model.to(device),\n",
    "        input_size=(1, 3, 260, 260),\n",
    "        device=device,\n",
    "        col_names=[\"input_size\", \"output_size\", \"num_params\", \"trainable\"],\n",
    "        col_width=20,\n",
    "        row_settings=[\"var_names\"])"
   ]
  },
  {
   "cell_type": "markdown",
   "id": "52ecc3d1a3426f49",
   "metadata": {},
   "source": [
    "## Train the model"
   ]
  },
  {
   "cell_type": "code",
   "execution_count": 31,
   "id": "507e275010fbb6cf",
   "metadata": {
    "ExecuteTime": {
     "end_time": "2025-04-27T15:05:13.619390Z",
     "start_time": "2025-04-27T15:05:13.614994Z"
    }
   },
   "outputs": [],
   "source": [
    "loss_fn = nn.CrossEntropyLoss()\n",
    "\n",
    "optimizer = torch.optim.Adam(model.parameters(), lr=1e-4)"
   ]
  },
  {
   "cell_type": "code",
   "execution_count": 32,
   "id": "6f6561403aca726e",
   "metadata": {
    "ExecuteTime": {
     "end_time": "2025-04-27T15:05:13.640326Z",
     "start_time": "2025-04-27T15:05:13.636326Z"
    }
   },
   "outputs": [
    {
     "name": "stderr",
     "output_type": "stream",
     "text": [
      "c:\\Users\\sandu\\AppData\\Local\\Programs\\Python\\Python312\\Lib\\site-packages\\torch\\optim\\lr_scheduler.py:62: UserWarning: The verbose parameter is deprecated. Please use get_last_lr() to access the learning rate.\n",
      "  warnings.warn(\n"
     ]
    }
   ],
   "source": [
    "scheduler = torch.optim.lr_scheduler.ReduceLROnPlateau(optimizer, mode='min', factor=0.1, patience=3, verbose=True)"
   ]
  },
  {
   "cell_type": "code",
   "execution_count": 33,
   "id": "364d1df5da9c3889",
   "metadata": {
    "ExecuteTime": {
     "end_time": "2025-04-27T15:21:55.533480Z",
     "start_time": "2025-04-27T15:05:13.681702Z"
    }
   },
   "outputs": [
    {
     "data": {
      "application/vnd.jupyter.widget-view+json": {
       "model_id": "e2f3e057bb504713b76357c86bf30b89",
       "version_major": 2,
       "version_minor": 0
      },
      "text/plain": [
       "  0%|          | 0/10 [00:00<?, ?it/s]"
      ]
     },
     "metadata": {},
     "output_type": "display_data"
    },
    {
     "name": "stdout",
     "output_type": "stream",
     "text": [
      "Epoch: 1 | train_loss: 1.4594 | train_acc: 0.7145 | test_loss: 0.1398 | test_acc: 0.9789\n",
      "[INFO] Saving best model at epoch 1 with test loss: 0.1398\n",
      "Epoch: 2 | train_loss: 0.1871 | train_acc: 0.9629 | test_loss: 0.0326 | test_acc: 0.9936\n",
      "[INFO] Saving best model at epoch 2 with test loss: 0.0326\n",
      "Epoch: 3 | train_loss: 0.0941 | train_acc: 0.9767 | test_loss: 0.0146 | test_acc: 0.9974\n",
      "[INFO] Saving best model at epoch 3 with test loss: 0.0146\n",
      "Epoch: 4 | train_loss: 0.0615 | train_acc: 0.9843 | test_loss: 0.0094 | test_acc: 0.9975\n",
      "[INFO] Saving best model at epoch 4 with test loss: 0.0094\n",
      "Epoch: 5 | train_loss: 0.0507 | train_acc: 0.9866 | test_loss: 0.0074 | test_acc: 0.9977\n",
      "[INFO] Saving best model at epoch 5 with test loss: 0.0074\n",
      "Epoch: 6 | train_loss: 0.0385 | train_acc: 0.9888 | test_loss: 0.0065 | test_acc: 0.9979\n",
      "[INFO] Saving best model at epoch 6 with test loss: 0.0065\n",
      "Epoch: 7 | train_loss: 0.0323 | train_acc: 0.9910 | test_loss: 0.0087 | test_acc: 0.9973\n",
      "Epoch: 8 | train_loss: 0.0236 | train_acc: 0.9939 | test_loss: 0.0073 | test_acc: 0.9975\n",
      "Epoch: 9 | train_loss: 0.0262 | train_acc: 0.9925 | test_loss: 0.0026 | test_acc: 0.9993\n",
      "[INFO] Saving best model at epoch 9 with test loss: 0.0026\n",
      "Epoch: 10 | train_loss: 0.0212 | train_acc: 0.9934 | test_loss: 0.0028 | test_acc: 0.9992\n",
      "Total train time: 1087.629 seconds.\n"
     ]
    }
   ],
   "source": [
    "import engine\n",
    "\n",
    "from timeit import default_timer as timer\n",
    "\n",
    "start_time = timer()\n",
    "\n",
    "results = engine.train(model=model,\n",
    "                       train_dataloader=train_dataloader,\n",
    "                       test_dataloader=test_dataloader,\n",
    "                       optimizer=optimizer,\n",
    "                       loss_fn=loss_fn,\n",
    "                       epochs=10,\n",
    "                       device=device,\n",
    "                       scheduler=scheduler,\n",
    "                       save_dir=\"models\",\n",
    "                       best_model_name=\"efficientNet_b0_food360_best.pth\")\n",
    "\n",
    "end_time = timer()\n",
    "\n",
    "print(f\"Total train time: {(end_time - start_time) :.3f} seconds.\")"
   ]
  },
  {
   "cell_type": "code",
   "execution_count": 34,
   "id": "2dab85fb969febb6",
   "metadata": {
    "ExecuteTime": {
     "end_time": "2025-04-27T15:21:55.576536100Z",
     "start_time": "2025-04-26T15:13:37.228676Z"
    }
   },
   "outputs": [
    {
     "name": "stdout",
     "output_type": "stream",
     "text": [
      "[INFO] Saving model to: models\\efficientnetb0_food360.pth\n"
     ]
    }
   ],
   "source": [
    "import utils\n",
    "\n",
    "utils.save_model(model=model,\n",
    "                 target_dir=\"models\",\n",
    "                 model_name=\"efficientnetb0_food360.pth\")"
   ]
  },
  {
   "cell_type": "code",
   "execution_count": 35,
   "id": "f71cc540c91f81e8",
   "metadata": {
    "ExecuteTime": {
     "end_time": "2025-04-27T15:21:55.590637500Z",
     "start_time": "2025-04-26T15:13:37.331260Z"
    }
   },
   "outputs": [],
   "source": [
    "from PIL import Image\n",
    "from torchvision import transforms\n",
    "import matplotlib.pyplot as plt\n",
    "from typing import List, Tuple\n",
    "\n",
    "def pred_and_plot_image(model: torch.nn.Module,\n",
    "                        image_path: str,\n",
    "                        class_names: List[str],\n",
    "                        image_size: Tuple[int, int]=(260,260),\n",
    "                        transform: torchvision.transforms=None,\n",
    "                        device: torch.device=device):\n",
    "    img = Image.open(image_path)\n",
    "\n",
    "    if transform is not None:\n",
    "        image_transform = transform\n",
    "    else:\n",
    "        image_transform = transforms.Compose([\n",
    "            transforms.Resize(image_size),\n",
    "            transforms.ToTensor(),\n",
    "            transforms.Normalize(mean=[0.485, 0.456, 0.406],\n",
    "                                 std=[0.229, 0.224, 0.225])\n",
    "        ])\n",
    "\n",
    "    model.to(device)\n",
    "\n",
    "    model.eval()\n",
    "    with torch.inference_mode():\n",
    "        transformed_img = image_transform(img).unsqueeze(0)\n",
    "\n",
    "        target_image_pred = model(transformed_img.to(device))\n",
    "\n",
    "        target_image_pred_probs = torch.softmax(target_image_pred, dim=1)\n",
    "\n",
    "        target_image_pred_label = torch.argmax(target_image_pred_probs, dim=1)\n",
    "\n",
    "    plt.figure()\n",
    "    plt.imshow(img)\n",
    "    plt.title(f\"Pred: {class_names[target_image_pred_label.item()]} | Prob: {target_image_pred_probs.max():.3f}\")\n",
    "    plt.axis(False)\n"
   ]
  },
  {
   "cell_type": "code",
   "execution_count": 44,
   "id": "445e16e073727578",
   "metadata": {
    "ExecuteTime": {
     "end_time": "2025-04-27T15:21:55.592637700Z",
     "start_time": "2025-04-26T15:14:24.565921Z"
    }
   },
   "outputs": [
    {
     "data": {
      "image/png": "[encoded data removed]",
      "text/plain": [
       "<Figure size 640x480 with 1 Axes>"
      ]
     },
     "metadata": {},
     "output_type": "display_data"
    }
   ],
   "source": [
    "pred_and_plot_image(model=model,\n",
    "                    image_path=\"blackberry_2.jpg\",\n",
    "                    class_names=class_names,\n",
    "                    image_size=(260,260),\n",
    "                    device=device)"
   ]
  },
  {
   "cell_type": "code",
   "execution_count": null,
   "id": "72c78322",
   "metadata": {},
   "outputs": [],
   "source": []
  }
 ],
 "metadata": {
  "kernelspec": {
   "display_name": "Python 3",
   "language": "python",
   "name": "python3"
  },
  "language_info": {
   "codemirror_mode": {
    "name": "ipython",
    "version": 3
   },
   "file_extension": ".py",
   "mimetype": "text/x-python",
   "name": "python",
   "nbconvert_exporter": "python",
   "pygments_lexer": "ipython3",
   "version": "3.12.10"
  }
 },
 "nbformat": 4,
 "nbformat_minor": 5
}
