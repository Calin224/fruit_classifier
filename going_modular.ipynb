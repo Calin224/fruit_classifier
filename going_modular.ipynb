{
 "cells": [
  {
   "cell_type": "code",
   "id": "initial_id",
   "metadata": {
    "collapsed": true,
    "ExecuteTime": {
     "end_time": "2025-04-25T19:26:26.892194Z",
     "start_time": "2025-04-25T19:26:26.887630Z"
    }
   },
   "source": "import torch",
   "outputs": [],
   "execution_count": 8
  },
  {
   "metadata": {
    "ExecuteTime": {
     "end_time": "2025-04-25T19:26:26.918719Z",
     "start_time": "2025-04-25T19:26:26.913649Z"
    }
   },
   "cell_type": "code",
   "source": [
    "device = \"cuda\" if torch.cuda.is_available() else \"cpu\"\n",
    "device"
   ],
   "id": "a8223d8dbe4a7c32",
   "outputs": [
    {
     "data": {
      "text/plain": [
       "'cuda'"
      ]
     },
     "execution_count": 9,
     "metadata": {},
     "output_type": "execute_result"
    }
   ],
   "execution_count": 9
  },
  {
   "metadata": {},
   "cell_type": "markdown",
   "source": "## Modularity",
   "id": "2aa7cf99193eabf7"
  },
  {
   "metadata": {
    "ExecuteTime": {
     "end_time": "2025-04-25T19:26:27.021517Z",
     "start_time": "2025-04-25T19:26:27.016013Z"
    }
   },
   "cell_type": "code",
   "source": [
    "%%writefile data_setup.py\n",
    "\n",
    "import os\n",
    "\n",
    "from torchvision import datasets, transforms\n",
    "from torch.utils.data import DataLoader\n",
    "\n",
    "NUM_WORKERS = os.cpu_count()\n",
    "\n",
    "\n",
    "def create_dataloader(train_dir: str,\n",
    "                      test_dir: str,\n",
    "                      transform: transforms.Compose,\n",
    "                      batch_size: int = 32,\n",
    "                      num_workers: int = NUM_WORKERS):\n",
    "    train_data = datasets.ImageFolder(root=train_dir, transform=transform)\n",
    "    test_data = datasets.ImageFolder(root=test_dir, transform=transform)\n",
    "\n",
    "    class_names = train_data.classes\n",
    "\n",
    "    train_dataloader = DataLoader(dataset=train_data,\n",
    "                                  batch_size=batch_size,\n",
    "                                  shuffle=True,\n",
    "                                  num_workers=num_workers,\n",
    "                                  pin_memory=True)\n",
    "\n",
    "    test_dataloader = DataLoader(dataset=test_data,\n",
    "                                 batch_size=batch_size,\n",
    "                                 shuffle=False,\n",
    "                                 num_workers=num_workers,\n",
    "                                 pin_memory=True)\n",
    "\n",
    "    return train_dataloader, test_dataloader, class_names\n"
   ],
   "id": "8ce6f7e49bd215e3",
   "outputs": [
    {
     "name": "stdout",
     "output_type": "stream",
     "text": [
      "Overwriting data_setup.py\n"
     ]
    }
   ],
   "execution_count": 10
  },
  {
   "metadata": {
    "ExecuteTime": {
     "end_time": "2025-04-25T19:26:27.342335Z",
     "start_time": "2025-04-25T19:26:27.068557Z"
    }
   },
   "cell_type": "code",
   "source": [
    "import os\n",
    "import torchvision\n",
    "from torchvision import datasets\n",
    "from pathlib import Path\n",
    "\n",
    "data_path = Path(\"data\")\n",
    "\n",
    "train_dir = data_path / \"Training\"\n",
    "test_dir = data_path / \"Test\"\n",
    "\n",
    "weights = torchvision.models.EfficientNet_B0_Weights.DEFAULT\n",
    "auto_transforms = weights.transforms()\n",
    "\n",
    "train_data = datasets.ImageFolder(root=train_dir, transform=auto_transforms)\n",
    "\n",
    "class_names = train_data.classes\n",
    "class_names"
   ],
   "id": "e93d5e1c18ec76b5",
   "outputs": [
    {
     "data": {
      "text/plain": [
       "['Apple 10',\n",
       " 'Apple 11',\n",
       " 'Apple 12',\n",
       " 'Apple 13',\n",
       " 'Apple 14',\n",
       " 'Apple 17',\n",
       " 'Apple 18',\n",
       " 'Apple 19',\n",
       " 'Apple 5',\n",
       " 'Apple 6',\n",
       " 'Apple 7',\n",
       " 'Apple 8',\n",
       " 'Apple 9',\n",
       " 'Apple Braeburn 1',\n",
       " 'Apple Core 1',\n",
       " 'Apple Crimson Snow 1',\n",
       " 'Apple Golden 1',\n",
       " 'Apple Golden 2',\n",
       " 'Apple Golden 3',\n",
       " 'Apple Granny Smith 1',\n",
       " 'Apple Pink Lady 1',\n",
       " 'Apple Red 1',\n",
       " 'Apple Red 2',\n",
       " 'Apple Red 3',\n",
       " 'Apple Red Delicious 1',\n",
       " 'Apple Red Yellow 1',\n",
       " 'Apple Red Yellow 2',\n",
       " 'Apple Rotten 1',\n",
       " 'Apple hit 1',\n",
       " 'Apple worm 1',\n",
       " 'Apricot 1',\n",
       " 'Avocado 1',\n",
       " 'Avocado ripe 1',\n",
       " 'Banana 1',\n",
       " 'Banana 3',\n",
       " 'Banana Lady Finger 1',\n",
       " 'Banana Red 1',\n",
       " 'Beans 1',\n",
       " 'Beetroot 1',\n",
       " 'Blackberrie 1',\n",
       " 'Blackberrie 2',\n",
       " 'Blackberrie half rippen 1',\n",
       " 'Blackberrie not rippen 1',\n",
       " 'Blueberry 1',\n",
       " 'Cabbage red 1',\n",
       " 'Cabbage white 1',\n",
       " 'Cactus fruit 1',\n",
       " 'Cactus fruit green 1',\n",
       " 'Cactus fruit red 1',\n",
       " 'Caju seed 1',\n",
       " 'Cantaloupe 1',\n",
       " 'Cantaloupe 2',\n",
       " 'Carambula 1',\n",
       " 'Carrot 1',\n",
       " 'Cauliflower 1',\n",
       " 'Cherimoya 1',\n",
       " 'Cherry 1',\n",
       " 'Cherry 2',\n",
       " 'Cherry 3',\n",
       " 'Cherry 4',\n",
       " 'Cherry 5',\n",
       " 'Cherry Rainier 1',\n",
       " 'Cherry Rainier 2',\n",
       " 'Cherry Rainier 3',\n",
       " 'Cherry Sour 1',\n",
       " 'Cherry Wax Black 1',\n",
       " 'Cherry Wax Red 1',\n",
       " 'Cherry Wax Red 2',\n",
       " 'Cherry Wax Red 3',\n",
       " 'Cherry Wax Yellow 1',\n",
       " 'Cherry Wax not ripen 1',\n",
       " 'Cherry Wax not ripen 2',\n",
       " 'Chestnut 1',\n",
       " 'Clementine 1',\n",
       " 'Cocos 1',\n",
       " 'Corn 1',\n",
       " 'Corn Husk 1',\n",
       " 'Cucumber 1',\n",
       " 'Cucumber 10',\n",
       " 'Cucumber 3',\n",
       " 'Cucumber 9',\n",
       " 'Cucumber Ripe 1',\n",
       " 'Cucumber Ripe 2',\n",
       " 'Dates 1',\n",
       " 'Eggplant 1',\n",
       " 'Eggplant long 1',\n",
       " 'Fig 1',\n",
       " 'Ginger Root 1',\n",
       " 'Gooseberry 1',\n",
       " 'Granadilla 1',\n",
       " 'Grape Blue 1',\n",
       " 'Grape Pink 1',\n",
       " 'Grape White 1',\n",
       " 'Grape White 2',\n",
       " 'Grape White 3',\n",
       " 'Grape White 4',\n",
       " 'Grapefruit Pink 1',\n",
       " 'Grapefruit White 1',\n",
       " 'Guava 1',\n",
       " 'Hazelnut 1',\n",
       " 'Huckleberry 1',\n",
       " 'Kaki 1',\n",
       " 'Kiwi 1',\n",
       " 'Kohlrabi 1',\n",
       " 'Kumquats 1',\n",
       " 'Lemon 1',\n",
       " 'Lemon Meyer 1',\n",
       " 'Limes 1',\n",
       " 'Lychee 1',\n",
       " 'Mandarine 1',\n",
       " 'Mango 1',\n",
       " 'Mango Red 1',\n",
       " 'Mangostan 1',\n",
       " 'Maracuja 1',\n",
       " 'Melon Piel de Sapo 1',\n",
       " 'Mulberry 1',\n",
       " 'Nectarine 1',\n",
       " 'Nectarine Flat 1',\n",
       " 'Nut Forest 1',\n",
       " 'Nut Pecan 1',\n",
       " 'Onion Red 1',\n",
       " 'Onion Red Peeled 1',\n",
       " 'Onion White 1',\n",
       " 'Orange 1',\n",
       " 'Papaya 1',\n",
       " 'Passion Fruit 1',\n",
       " 'Peach 1',\n",
       " 'Peach 2',\n",
       " 'Peach Flat 1',\n",
       " 'Pear 1',\n",
       " 'Pear 2',\n",
       " 'Pear 3',\n",
       " 'Pear Abate 1',\n",
       " 'Pear Forelle 1',\n",
       " 'Pear Kaiser 1',\n",
       " 'Pear Monster 1',\n",
       " 'Pear Red 1',\n",
       " 'Pear Stone 1',\n",
       " 'Pear Williams 1',\n",
       " 'Pepino 1',\n",
       " 'Pepper Green 1',\n",
       " 'Pepper Orange 1',\n",
       " 'Pepper Red 1',\n",
       " 'Pepper Yellow 1',\n",
       " 'Physalis 1',\n",
       " 'Physalis with Husk 1',\n",
       " 'Pineapple 1',\n",
       " 'Pineapple Mini 1',\n",
       " 'Pistachio 1',\n",
       " 'Pitahaya Red 1',\n",
       " 'Plum 1',\n",
       " 'Plum 2',\n",
       " 'Plum 3',\n",
       " 'Pomegranate 1',\n",
       " 'Pomelo Sweetie 1',\n",
       " 'Potato Red 1',\n",
       " 'Potato Red Washed 1',\n",
       " 'Potato Sweet 1',\n",
       " 'Potato White 1',\n",
       " 'Quince 1',\n",
       " 'Quince 2',\n",
       " 'Quince 3',\n",
       " 'Quince 4',\n",
       " 'Rambutan 1',\n",
       " 'Raspberry 1',\n",
       " 'Redcurrant 1',\n",
       " 'Salak 1',\n",
       " 'Strawberry 1',\n",
       " 'Strawberry Wedge 1',\n",
       " 'Tamarillo 1',\n",
       " 'Tangelo 1',\n",
       " 'Tomato 1',\n",
       " 'Tomato 10',\n",
       " 'Tomato 2',\n",
       " 'Tomato 3',\n",
       " 'Tomato 4',\n",
       " 'Tomato 5',\n",
       " 'Tomato 7',\n",
       " 'Tomato 8',\n",
       " 'Tomato 9',\n",
       " 'Tomato Cherry Maroon 1',\n",
       " 'Tomato Cherry Orange 1',\n",
       " 'Tomato Cherry Red 1',\n",
       " 'Tomato Cherry Red 2',\n",
       " 'Tomato Cherry Yellow 1',\n",
       " 'Tomato Heart 1',\n",
       " 'Tomato Maroon 1',\n",
       " 'Tomato Maroon 2',\n",
       " 'Tomato Yellow 1',\n",
       " 'Tomato not Ripened 1',\n",
       " 'Walnut 1',\n",
       " 'Watermelon 1',\n",
       " 'Zucchini 1',\n",
       " 'Zucchini dark 1']"
      ]
     },
     "execution_count": 11,
     "metadata": {},
     "output_type": "execute_result"
    }
   ],
   "execution_count": 11
  },
  {
   "metadata": {
    "ExecuteTime": {
     "end_time": "2025-04-25T19:26:27.362945Z",
     "start_time": "2025-04-25T19:26:27.356398Z"
    }
   },
   "cell_type": "code",
   "source": [
    "%%writefile engine.py\n",
    "\n",
    "import torch\n",
    "from tqdm.auto import tqdm\n",
    "from typing import Dict, List, Tuple\n",
    "\n",
    "def train_step(model: torch.nn.Module,\n",
    "               dataloader: torch.utils.data.DataLoader,\n",
    "               loss_fn: torch.nn.Module,\n",
    "               optimizer: torch.optim.Optimizer,\n",
    "               device: torch.device) -> Tuple[float, float]:\n",
    "    model.train()\n",
    "    train_loss, train_acc = 0, 0\n",
    "\n",
    "    for batch, (X, y) in enumerate(dataloader):\n",
    "        X, y = X.to(device), y.to(device)\n",
    "\n",
    "        y_pred = model(X)\n",
    "        loss = loss_fn(y_pred, y)\n",
    "        train_loss += loss.item()\n",
    "\n",
    "        optimizer.zero_grad()\n",
    "        loss.backward()\n",
    "        optimizer.step()\n",
    "\n",
    "        y_pred_class = torch.argmax(torch.softmax(y_pred, dim=1), dim=1)\n",
    "        train_acc += (y_pred_class == y).sum().item() / len(y_pred)\n",
    "\n",
    "    train_loss /= len(dataloader)\n",
    "    train_acc /= len(dataloader)\n",
    "\n",
    "    return train_loss, train_acc\n",
    "\n",
    "def test_step(model: torch.nn.Module,\n",
    "              dataloader: torch.utils.data.DataLoader,\n",
    "              loss_fn: torch.nn.Module,\n",
    "              device: torch.device) -> Tuple[float, float]:\n",
    "    model.eval()\n",
    "    test_loss, test_acc = 0, 0\n",
    "\n",
    "    with torch.inference_mode():\n",
    "        for batch, (X, y) in enumerate(dataloader):\n",
    "            X, y = X.to(device), y.to(device)\n",
    "\n",
    "            test_pred_logits = model(X)\n",
    "            loss = loss_fn(test_pred_logits, y)\n",
    "            test_loss += loss.item()\n",
    "\n",
    "            test_pred_labels = test_pred_logits.argmax(dim=1)\n",
    "            test_acc += ((test_pred_labels == y).sum().item()/len(test_pred_labels))\n",
    "\n",
    "    test_loss /= len(dataloader)\n",
    "    test_acc /= len(dataloader)\n",
    "\n",
    "    return test_loss, test_acc\n",
    "\n",
    "def train(model: torch.nn.Module,\n",
    "          train_dataloader: torch.utils.data.DataLoader,\n",
    "          test_dataloader: torch.utils.data.DataLoader,\n",
    "          optimizer: torch.optim.Optimizer,\n",
    "          loss_fn: torch.nn.Module,\n",
    "          epochs: int,\n",
    "          device: torch.device) -> Dict[str, List]:\n",
    "    results = {\n",
    "        \"train_loss\": [],\n",
    "        \"train_acc\": [],\n",
    "        \"test_loss\": [],\n",
    "        \"test_acc\": []\n",
    "    }\n",
    "\n",
    "    for epoch in tqdm(range(epochs)):\n",
    "        train_loss, train_acc = train_step(model=model,\n",
    "                                           dataloader=train_dataloader,\n",
    "                                           loss_fn=loss_fn,\n",
    "                                           optimizer=optimizer,\n",
    "                                           device=device)\n",
    "\n",
    "        test_loss, test_acc = test_step(model=model,\n",
    "                                        dataloader=test_dataloader,\n",
    "                                        loss_fn=loss_fn,\n",
    "                                        device=device)\n",
    "\n",
    "        print(\n",
    "            f\"Epoch: {epoch + 1} | \"\n",
    "            f\"train_loss: {train_loss:.4f} | \"\n",
    "            f\"train_acc: {train_acc:.4f} | \"\n",
    "            f\"test_loss: {test_loss:.4f} | \"\n",
    "            f\"test_acc: {test_acc:.4f}\"\n",
    "        )\n",
    "\n",
    "        results[\"train_loss\"].append(train_loss)\n",
    "        results[\"train_acc\"].append(train_acc)\n",
    "        results[\"test_loss\"].append(test_loss)\n",
    "        results[\"test_acc\"].append(test_acc)\n",
    "\n",
    "    return results\n"
   ],
   "id": "f59274eef27d77f",
   "outputs": [
    {
     "name": "stdout",
     "output_type": "stream",
     "text": [
      "Overwriting engine.py\n"
     ]
    }
   ],
   "execution_count": 12
  },
  {
   "metadata": {
    "ExecuteTime": {
     "end_time": "2025-04-25T19:26:27.396870Z",
     "start_time": "2025-04-25T19:26:27.390669Z"
    }
   },
   "cell_type": "code",
   "source": [
    "%%writefile utils.py\n",
    "\n",
    "import torch\n",
    "from pathlib import Path\n",
    "\n",
    "\n",
    "def save_model(model: torch.nn.Module,\n",
    "               target_dir: str,\n",
    "               model_name: str):\n",
    "    target_dir_path = Path(target_dir)\n",
    "    target_dir_path.mkdir(parents=True, exist_ok=True)\n",
    "\n",
    "    assert model_name.endswith(\".pth\") or model_name.endswith(\".pt\"), \"Model name must end with .pth or .pt\"\n",
    "\n",
    "    model_save_path = target_dir_path / model_name\n",
    "\n",
    "    print(\"[INFO] Saving model to:\", model_save_path)\n",
    "    torch.save(model.state_dict(), model_save_path)"
   ],
   "id": "d64802231047a696",
   "outputs": [
    {
     "name": "stdout",
     "output_type": "stream",
     "text": [
      "Overwriting utils.py\n"
     ]
    }
   ],
   "execution_count": 13
  },
  {
   "metadata": {},
   "cell_type": "markdown",
   "source": "# Get the model",
   "id": "254e19e36fd7070e"
  },
  {
   "metadata": {},
   "cell_type": "markdown",
   "source": "### Create datdasets and dataloaders",
   "id": "34ed79aa1f8ff047"
  },
  {
   "metadata": {
    "ExecuteTime": {
     "end_time": "2025-04-25T19:26:27.457237Z",
     "start_time": "2025-04-25T19:26:27.445946Z"
    }
   },
   "cell_type": "code",
   "source": [
    "import torchvision\n",
    "from torchvision import transforms\n",
    "\n",
    "weights = torchvision.models.ResNet18_Weights.DEFAULT\n",
    "weights.transforms()\n",
    "\n",
    "manual_transform = transforms.Compose([\n",
    "    transforms.Resize((100,100)),\n",
    "    transforms.ToTensor(),\n",
    "    transforms.Normalize(mean=[0.485, 0.456, 0.406],\n",
    "                         std=[0.229, 0.224, 0.225])\n",
    "])"
   ],
   "id": "12d37fc35b98826",
   "outputs": [],
   "execution_count": 14
  },
  {
   "metadata": {
    "ExecuteTime": {
     "end_time": "2025-04-25T19:26:27.505910Z",
     "start_time": "2025-04-25T19:26:27.500803Z"
    }
   },
   "cell_type": "code",
   "source": [
    "auto_transforms = weights.transforms()\n",
    "auto_transforms"
   ],
   "id": "ba19a8041a3c5922",
   "outputs": [
    {
     "data": {
      "text/plain": [
       "ImageClassification(\n",
       "    crop_size=[224]\n",
       "    resize_size=[256]\n",
       "    mean=[0.485, 0.456, 0.406]\n",
       "    std=[0.229, 0.224, 0.225]\n",
       "    interpolation=InterpolationMode.BILINEAR\n",
       ")"
      ]
     },
     "execution_count": 15,
     "metadata": {},
     "output_type": "execute_result"
    }
   ],
   "execution_count": 15
  },
  {
   "metadata": {
    "ExecuteTime": {
     "end_time": "2025-04-25T19:26:27.891656Z",
     "start_time": "2025-04-25T19:26:27.562790Z"
    }
   },
   "cell_type": "code",
   "source": [
    "import data_setup\n",
    "\n",
    "train_dataloader, test_dataloader, class_names = data_setup.create_dataloader(train_dir=train_dir,\n",
    "                                                                              test_dir=test_dir,\n",
    "                                                                              transform=manual_transform,\n",
    "                                                                              batch_size=11)\n",
    "\n",
    "train_dataloader, test_dataloader, class_names"
   ],
   "id": "c5de4a725ab79a3c",
   "outputs": [
    {
     "data": {
      "text/plain": [
       "(<torch.utils.data.dataloader.DataLoader at 0x16901524ec0>,\n",
       " <torch.utils.data.dataloader.DataLoader at 0x16901525520>,\n",
       " ['Apple 10',\n",
       "  'Apple 11',\n",
       "  'Apple 12',\n",
       "  'Apple 13',\n",
       "  'Apple 14',\n",
       "  'Apple 17',\n",
       "  'Apple 18',\n",
       "  'Apple 19',\n",
       "  'Apple 5',\n",
       "  'Apple 6',\n",
       "  'Apple 7',\n",
       "  'Apple 8',\n",
       "  'Apple 9',\n",
       "  'Apple Braeburn 1',\n",
       "  'Apple Core 1',\n",
       "  'Apple Crimson Snow 1',\n",
       "  'Apple Golden 1',\n",
       "  'Apple Golden 2',\n",
       "  'Apple Golden 3',\n",
       "  'Apple Granny Smith 1',\n",
       "  'Apple Pink Lady 1',\n",
       "  'Apple Red 1',\n",
       "  'Apple Red 2',\n",
       "  'Apple Red 3',\n",
       "  'Apple Red Delicious 1',\n",
       "  'Apple Red Yellow 1',\n",
       "  'Apple Red Yellow 2',\n",
       "  'Apple Rotten 1',\n",
       "  'Apple hit 1',\n",
       "  'Apple worm 1',\n",
       "  'Apricot 1',\n",
       "  'Avocado 1',\n",
       "  'Avocado ripe 1',\n",
       "  'Banana 1',\n",
       "  'Banana 3',\n",
       "  'Banana Lady Finger 1',\n",
       "  'Banana Red 1',\n",
       "  'Beans 1',\n",
       "  'Beetroot 1',\n",
       "  'Blackberrie 1',\n",
       "  'Blackberrie 2',\n",
       "  'Blackberrie half rippen 1',\n",
       "  'Blackberrie not rippen 1',\n",
       "  'Blueberry 1',\n",
       "  'Cabbage red 1',\n",
       "  'Cabbage white 1',\n",
       "  'Cactus fruit 1',\n",
       "  'Cactus fruit green 1',\n",
       "  'Cactus fruit red 1',\n",
       "  'Caju seed 1',\n",
       "  'Cantaloupe 1',\n",
       "  'Cantaloupe 2',\n",
       "  'Carambula 1',\n",
       "  'Carrot 1',\n",
       "  'Cauliflower 1',\n",
       "  'Cherimoya 1',\n",
       "  'Cherry 1',\n",
       "  'Cherry 2',\n",
       "  'Cherry 3',\n",
       "  'Cherry 4',\n",
       "  'Cherry 5',\n",
       "  'Cherry Rainier 1',\n",
       "  'Cherry Rainier 2',\n",
       "  'Cherry Rainier 3',\n",
       "  'Cherry Sour 1',\n",
       "  'Cherry Wax Black 1',\n",
       "  'Cherry Wax Red 1',\n",
       "  'Cherry Wax Red 2',\n",
       "  'Cherry Wax Red 3',\n",
       "  'Cherry Wax Yellow 1',\n",
       "  'Cherry Wax not ripen 1',\n",
       "  'Cherry Wax not ripen 2',\n",
       "  'Chestnut 1',\n",
       "  'Clementine 1',\n",
       "  'Cocos 1',\n",
       "  'Corn 1',\n",
       "  'Corn Husk 1',\n",
       "  'Cucumber 1',\n",
       "  'Cucumber 10',\n",
       "  'Cucumber 3',\n",
       "  'Cucumber 9',\n",
       "  'Cucumber Ripe 1',\n",
       "  'Cucumber Ripe 2',\n",
       "  'Dates 1',\n",
       "  'Eggplant 1',\n",
       "  'Eggplant long 1',\n",
       "  'Fig 1',\n",
       "  'Ginger Root 1',\n",
       "  'Gooseberry 1',\n",
       "  'Granadilla 1',\n",
       "  'Grape Blue 1',\n",
       "  'Grape Pink 1',\n",
       "  'Grape White 1',\n",
       "  'Grape White 2',\n",
       "  'Grape White 3',\n",
       "  'Grape White 4',\n",
       "  'Grapefruit Pink 1',\n",
       "  'Grapefruit White 1',\n",
       "  'Guava 1',\n",
       "  'Hazelnut 1',\n",
       "  'Huckleberry 1',\n",
       "  'Kaki 1',\n",
       "  'Kiwi 1',\n",
       "  'Kohlrabi 1',\n",
       "  'Kumquats 1',\n",
       "  'Lemon 1',\n",
       "  'Lemon Meyer 1',\n",
       "  'Limes 1',\n",
       "  'Lychee 1',\n",
       "  'Mandarine 1',\n",
       "  'Mango 1',\n",
       "  'Mango Red 1',\n",
       "  'Mangostan 1',\n",
       "  'Maracuja 1',\n",
       "  'Melon Piel de Sapo 1',\n",
       "  'Mulberry 1',\n",
       "  'Nectarine 1',\n",
       "  'Nectarine Flat 1',\n",
       "  'Nut Forest 1',\n",
       "  'Nut Pecan 1',\n",
       "  'Onion Red 1',\n",
       "  'Onion Red Peeled 1',\n",
       "  'Onion White 1',\n",
       "  'Orange 1',\n",
       "  'Papaya 1',\n",
       "  'Passion Fruit 1',\n",
       "  'Peach 1',\n",
       "  'Peach 2',\n",
       "  'Peach Flat 1',\n",
       "  'Pear 1',\n",
       "  'Pear 2',\n",
       "  'Pear 3',\n",
       "  'Pear Abate 1',\n",
       "  'Pear Forelle 1',\n",
       "  'Pear Kaiser 1',\n",
       "  'Pear Monster 1',\n",
       "  'Pear Red 1',\n",
       "  'Pear Stone 1',\n",
       "  'Pear Williams 1',\n",
       "  'Pepino 1',\n",
       "  'Pepper Green 1',\n",
       "  'Pepper Orange 1',\n",
       "  'Pepper Red 1',\n",
       "  'Pepper Yellow 1',\n",
       "  'Physalis 1',\n",
       "  'Physalis with Husk 1',\n",
       "  'Pineapple 1',\n",
       "  'Pineapple Mini 1',\n",
       "  'Pistachio 1',\n",
       "  'Pitahaya Red 1',\n",
       "  'Plum 1',\n",
       "  'Plum 2',\n",
       "  'Plum 3',\n",
       "  'Pomegranate 1',\n",
       "  'Pomelo Sweetie 1',\n",
       "  'Potato Red 1',\n",
       "  'Potato Red Washed 1',\n",
       "  'Potato Sweet 1',\n",
       "  'Potato White 1',\n",
       "  'Quince 1',\n",
       "  'Quince 2',\n",
       "  'Quince 3',\n",
       "  'Quince 4',\n",
       "  'Rambutan 1',\n",
       "  'Raspberry 1',\n",
       "  'Redcurrant 1',\n",
       "  'Salak 1',\n",
       "  'Strawberry 1',\n",
       "  'Strawberry Wedge 1',\n",
       "  'Tamarillo 1',\n",
       "  'Tangelo 1',\n",
       "  'Tomato 1',\n",
       "  'Tomato 10',\n",
       "  'Tomato 2',\n",
       "  'Tomato 3',\n",
       "  'Tomato 4',\n",
       "  'Tomato 5',\n",
       "  'Tomato 7',\n",
       "  'Tomato 8',\n",
       "  'Tomato 9',\n",
       "  'Tomato Cherry Maroon 1',\n",
       "  'Tomato Cherry Orange 1',\n",
       "  'Tomato Cherry Red 1',\n",
       "  'Tomato Cherry Red 2',\n",
       "  'Tomato Cherry Yellow 1',\n",
       "  'Tomato Heart 1',\n",
       "  'Tomato Maroon 1',\n",
       "  'Tomato Maroon 2',\n",
       "  'Tomato Yellow 1',\n",
       "  'Tomato not Ripened 1',\n",
       "  'Walnut 1',\n",
       "  'Watermelon 1',\n",
       "  'Zucchini 1',\n",
       "  'Zucchini dark 1'])"
      ]
     },
     "execution_count": 16,
     "metadata": {},
     "output_type": "execute_result"
    }
   ],
   "execution_count": 16
  },
  {
   "metadata": {
    "ExecuteTime": {
     "end_time": "2025-04-25T19:52:26.645790Z",
     "start_time": "2025-04-25T19:52:26.639264Z"
    }
   },
   "cell_type": "code",
   "source": "len(class_names)",
   "id": "ae4a69713c16904a",
   "outputs": [
    {
     "data": {
      "text/plain": [
       "194"
      ]
     },
     "execution_count": 47,
     "metadata": {},
     "output_type": "execute_result"
    }
   ],
   "execution_count": 47
  },
  {
   "metadata": {},
   "cell_type": "markdown",
   "source": "## Getting a pretrained model",
   "id": "d65ab268d09b6eee"
  },
  {
   "metadata": {
    "ExecuteTime": {
     "end_time": "2025-04-25T19:26:28.136928Z",
     "start_time": "2025-04-25T19:26:27.906923Z"
    }
   },
   "cell_type": "code",
   "source": [
    "weights = torchvision.models.ResNet18_Weights.DEFAULT\n",
    "model = torchvision.models.resnet18(weights=weights).to(device)\n",
    "model"
   ],
   "id": "39f8fe3a79eefe93",
   "outputs": [
    {
     "data": {
      "text/plain": [
       "ResNet(\n",
       "  (conv1): Conv2d(3, 64, kernel_size=(7, 7), stride=(2, 2), padding=(3, 3), bias=False)\n",
       "  (bn1): BatchNorm2d(64, eps=1e-05, momentum=0.1, affine=True, track_running_stats=True)\n",
       "  (relu): ReLU(inplace=True)\n",
       "  (maxpool): MaxPool2d(kernel_size=3, stride=2, padding=1, dilation=1, ceil_mode=False)\n",
       "  (layer1): Sequential(\n",
       "    (0): BasicBlock(\n",
       "      (conv1): Conv2d(64, 64, kernel_size=(3, 3), stride=(1, 1), padding=(1, 1), bias=False)\n",
       "      (bn1): BatchNorm2d(64, eps=1e-05, momentum=0.1, affine=True, track_running_stats=True)\n",
       "      (relu): ReLU(inplace=True)\n",
       "      (conv2): Conv2d(64, 64, kernel_size=(3, 3), stride=(1, 1), padding=(1, 1), bias=False)\n",
       "      (bn2): BatchNorm2d(64, eps=1e-05, momentum=0.1, affine=True, track_running_stats=True)\n",
       "    )\n",
       "    (1): BasicBlock(\n",
       "      (conv1): Conv2d(64, 64, kernel_size=(3, 3), stride=(1, 1), padding=(1, 1), bias=False)\n",
       "      (bn1): BatchNorm2d(64, eps=1e-05, momentum=0.1, affine=True, track_running_stats=True)\n",
       "      (relu): ReLU(inplace=True)\n",
       "      (conv2): Conv2d(64, 64, kernel_size=(3, 3), stride=(1, 1), padding=(1, 1), bias=False)\n",
       "      (bn2): BatchNorm2d(64, eps=1e-05, momentum=0.1, affine=True, track_running_stats=True)\n",
       "    )\n",
       "  )\n",
       "  (layer2): Sequential(\n",
       "    (0): BasicBlock(\n",
       "      (conv1): Conv2d(64, 128, kernel_size=(3, 3), stride=(2, 2), padding=(1, 1), bias=False)\n",
       "      (bn1): BatchNorm2d(128, eps=1e-05, momentum=0.1, affine=True, track_running_stats=True)\n",
       "      (relu): ReLU(inplace=True)\n",
       "      (conv2): Conv2d(128, 128, kernel_size=(3, 3), stride=(1, 1), padding=(1, 1), bias=False)\n",
       "      (bn2): BatchNorm2d(128, eps=1e-05, momentum=0.1, affine=True, track_running_stats=True)\n",
       "      (downsample): Sequential(\n",
       "        (0): Conv2d(64, 128, kernel_size=(1, 1), stride=(2, 2), bias=False)\n",
       "        (1): BatchNorm2d(128, eps=1e-05, momentum=0.1, affine=True, track_running_stats=True)\n",
       "      )\n",
       "    )\n",
       "    (1): BasicBlock(\n",
       "      (conv1): Conv2d(128, 128, kernel_size=(3, 3), stride=(1, 1), padding=(1, 1), bias=False)\n",
       "      (bn1): BatchNorm2d(128, eps=1e-05, momentum=0.1, affine=True, track_running_stats=True)\n",
       "      (relu): ReLU(inplace=True)\n",
       "      (conv2): Conv2d(128, 128, kernel_size=(3, 3), stride=(1, 1), padding=(1, 1), bias=False)\n",
       "      (bn2): BatchNorm2d(128, eps=1e-05, momentum=0.1, affine=True, track_running_stats=True)\n",
       "    )\n",
       "  )\n",
       "  (layer3): Sequential(\n",
       "    (0): BasicBlock(\n",
       "      (conv1): Conv2d(128, 256, kernel_size=(3, 3), stride=(2, 2), padding=(1, 1), bias=False)\n",
       "      (bn1): BatchNorm2d(256, eps=1e-05, momentum=0.1, affine=True, track_running_stats=True)\n",
       "      (relu): ReLU(inplace=True)\n",
       "      (conv2): Conv2d(256, 256, kernel_size=(3, 3), stride=(1, 1), padding=(1, 1), bias=False)\n",
       "      (bn2): BatchNorm2d(256, eps=1e-05, momentum=0.1, affine=True, track_running_stats=True)\n",
       "      (downsample): Sequential(\n",
       "        (0): Conv2d(128, 256, kernel_size=(1, 1), stride=(2, 2), bias=False)\n",
       "        (1): BatchNorm2d(256, eps=1e-05, momentum=0.1, affine=True, track_running_stats=True)\n",
       "      )\n",
       "    )\n",
       "    (1): BasicBlock(\n",
       "      (conv1): Conv2d(256, 256, kernel_size=(3, 3), stride=(1, 1), padding=(1, 1), bias=False)\n",
       "      (bn1): BatchNorm2d(256, eps=1e-05, momentum=0.1, affine=True, track_running_stats=True)\n",
       "      (relu): ReLU(inplace=True)\n",
       "      (conv2): Conv2d(256, 256, kernel_size=(3, 3), stride=(1, 1), padding=(1, 1), bias=False)\n",
       "      (bn2): BatchNorm2d(256, eps=1e-05, momentum=0.1, affine=True, track_running_stats=True)\n",
       "    )\n",
       "  )\n",
       "  (layer4): Sequential(\n",
       "    (0): BasicBlock(\n",
       "      (conv1): Conv2d(256, 512, kernel_size=(3, 3), stride=(2, 2), padding=(1, 1), bias=False)\n",
       "      (bn1): BatchNorm2d(512, eps=1e-05, momentum=0.1, affine=True, track_running_stats=True)\n",
       "      (relu): ReLU(inplace=True)\n",
       "      (conv2): Conv2d(512, 512, kernel_size=(3, 3), stride=(1, 1), padding=(1, 1), bias=False)\n",
       "      (bn2): BatchNorm2d(512, eps=1e-05, momentum=0.1, affine=True, track_running_stats=True)\n",
       "      (downsample): Sequential(\n",
       "        (0): Conv2d(256, 512, kernel_size=(1, 1), stride=(2, 2), bias=False)\n",
       "        (1): BatchNorm2d(512, eps=1e-05, momentum=0.1, affine=True, track_running_stats=True)\n",
       "      )\n",
       "    )\n",
       "    (1): BasicBlock(\n",
       "      (conv1): Conv2d(512, 512, kernel_size=(3, 3), stride=(1, 1), padding=(1, 1), bias=False)\n",
       "      (bn1): BatchNorm2d(512, eps=1e-05, momentum=0.1, affine=True, track_running_stats=True)\n",
       "      (relu): ReLU(inplace=True)\n",
       "      (conv2): Conv2d(512, 512, kernel_size=(3, 3), stride=(1, 1), padding=(1, 1), bias=False)\n",
       "      (bn2): BatchNorm2d(512, eps=1e-05, momentum=0.1, affine=True, track_running_stats=True)\n",
       "    )\n",
       "  )\n",
       "  (avgpool): AdaptiveAvgPool2d(output_size=(1, 1))\n",
       "  (fc): Linear(in_features=512, out_features=1000, bias=True)\n",
       ")"
      ]
     },
     "execution_count": 17,
     "metadata": {},
     "output_type": "execute_result"
    }
   ],
   "execution_count": 17
  },
  {
   "metadata": {
    "ExecuteTime": {
     "end_time": "2025-04-25T19:26:28.155637Z",
     "start_time": "2025-04-25T19:26:28.150019Z"
    }
   },
   "cell_type": "code",
   "source": "model.fc",
   "id": "6767e9d332149926",
   "outputs": [
    {
     "data": {
      "text/plain": [
       "Linear(in_features=512, out_features=1000, bias=True)"
      ]
     },
     "execution_count": 18,
     "metadata": {},
     "output_type": "execute_result"
    }
   ],
   "execution_count": 18
  },
  {
   "metadata": {
    "ExecuteTime": {
     "end_time": "2025-04-25T19:26:28.416989Z",
     "start_time": "2025-04-25T19:26:28.180696Z"
    }
   },
   "cell_type": "code",
   "source": [
    "from torchinfo import summary\n",
    "\n",
    "summary(model=model.to(device),\n",
    "        input_size=(1, 3, 224, 224),\n",
    "        device=device,\n",
    "        col_names=[\"input_size\", \"output_size\", \"num_params\", \"trainable\"],\n",
    "        col_width=20,\n",
    "        row_settings=[\"var_names\"])"
   ],
   "id": "c2d3164eed890afc",
   "outputs": [
    {
     "data": {
      "text/plain": [
       "========================================================================================================================\n",
       "Layer (type (var_name))                  Input Shape          Output Shape         Param #              Trainable\n",
       "========================================================================================================================\n",
       "ResNet (ResNet)                          [1, 3, 224, 224]     [1, 1000]            --                   True\n",
       "├─Conv2d (conv1)                         [1, 3, 224, 224]     [1, 64, 112, 112]    9,408                True\n",
       "├─BatchNorm2d (bn1)                      [1, 64, 112, 112]    [1, 64, 112, 112]    128                  True\n",
       "├─ReLU (relu)                            [1, 64, 112, 112]    [1, 64, 112, 112]    --                   --\n",
       "├─MaxPool2d (maxpool)                    [1, 64, 112, 112]    [1, 64, 56, 56]      --                   --\n",
       "├─Sequential (layer1)                    [1, 64, 56, 56]      [1, 64, 56, 56]      --                   True\n",
       "│    └─BasicBlock (0)                    [1, 64, 56, 56]      [1, 64, 56, 56]      --                   True\n",
       "│    │    └─Conv2d (conv1)               [1, 64, 56, 56]      [1, 64, 56, 56]      36,864               True\n",
       "│    │    └─BatchNorm2d (bn1)            [1, 64, 56, 56]      [1, 64, 56, 56]      128                  True\n",
       "│    │    └─ReLU (relu)                  [1, 64, 56, 56]      [1, 64, 56, 56]      --                   --\n",
       "│    │    └─Conv2d (conv2)               [1, 64, 56, 56]      [1, 64, 56, 56]      36,864               True\n",
       "│    │    └─BatchNorm2d (bn2)            [1, 64, 56, 56]      [1, 64, 56, 56]      128                  True\n",
       "│    │    └─ReLU (relu)                  [1, 64, 56, 56]      [1, 64, 56, 56]      --                   --\n",
       "│    └─BasicBlock (1)                    [1, 64, 56, 56]      [1, 64, 56, 56]      --                   True\n",
       "│    │    └─Conv2d (conv1)               [1, 64, 56, 56]      [1, 64, 56, 56]      36,864               True\n",
       "│    │    └─BatchNorm2d (bn1)            [1, 64, 56, 56]      [1, 64, 56, 56]      128                  True\n",
       "│    │    └─ReLU (relu)                  [1, 64, 56, 56]      [1, 64, 56, 56]      --                   --\n",
       "│    │    └─Conv2d (conv2)               [1, 64, 56, 56]      [1, 64, 56, 56]      36,864               True\n",
       "│    │    └─BatchNorm2d (bn2)            [1, 64, 56, 56]      [1, 64, 56, 56]      128                  True\n",
       "│    │    └─ReLU (relu)                  [1, 64, 56, 56]      [1, 64, 56, 56]      --                   --\n",
       "├─Sequential (layer2)                    [1, 64, 56, 56]      [1, 128, 28, 28]     --                   True\n",
       "│    └─BasicBlock (0)                    [1, 64, 56, 56]      [1, 128, 28, 28]     --                   True\n",
       "│    │    └─Conv2d (conv1)               [1, 64, 56, 56]      [1, 128, 28, 28]     73,728               True\n",
       "│    │    └─BatchNorm2d (bn1)            [1, 128, 28, 28]     [1, 128, 28, 28]     256                  True\n",
       "│    │    └─ReLU (relu)                  [1, 128, 28, 28]     [1, 128, 28, 28]     --                   --\n",
       "│    │    └─Conv2d (conv2)               [1, 128, 28, 28]     [1, 128, 28, 28]     147,456              True\n",
       "│    │    └─BatchNorm2d (bn2)            [1, 128, 28, 28]     [1, 128, 28, 28]     256                  True\n",
       "│    │    └─Sequential (downsample)      [1, 64, 56, 56]      [1, 128, 28, 28]     8,448                True\n",
       "│    │    └─ReLU (relu)                  [1, 128, 28, 28]     [1, 128, 28, 28]     --                   --\n",
       "│    └─BasicBlock (1)                    [1, 128, 28, 28]     [1, 128, 28, 28]     --                   True\n",
       "│    │    └─Conv2d (conv1)               [1, 128, 28, 28]     [1, 128, 28, 28]     147,456              True\n",
       "│    │    └─BatchNorm2d (bn1)            [1, 128, 28, 28]     [1, 128, 28, 28]     256                  True\n",
       "│    │    └─ReLU (relu)                  [1, 128, 28, 28]     [1, 128, 28, 28]     --                   --\n",
       "│    │    └─Conv2d (conv2)               [1, 128, 28, 28]     [1, 128, 28, 28]     147,456              True\n",
       "│    │    └─BatchNorm2d (bn2)            [1, 128, 28, 28]     [1, 128, 28, 28]     256                  True\n",
       "│    │    └─ReLU (relu)                  [1, 128, 28, 28]     [1, 128, 28, 28]     --                   --\n",
       "├─Sequential (layer3)                    [1, 128, 28, 28]     [1, 256, 14, 14]     --                   True\n",
       "│    └─BasicBlock (0)                    [1, 128, 28, 28]     [1, 256, 14, 14]     --                   True\n",
       "│    │    └─Conv2d (conv1)               [1, 128, 28, 28]     [1, 256, 14, 14]     294,912              True\n",
       "│    │    └─BatchNorm2d (bn1)            [1, 256, 14, 14]     [1, 256, 14, 14]     512                  True\n",
       "│    │    └─ReLU (relu)                  [1, 256, 14, 14]     [1, 256, 14, 14]     --                   --\n",
       "│    │    └─Conv2d (conv2)               [1, 256, 14, 14]     [1, 256, 14, 14]     589,824              True\n",
       "│    │    └─BatchNorm2d (bn2)            [1, 256, 14, 14]     [1, 256, 14, 14]     512                  True\n",
       "│    │    └─Sequential (downsample)      [1, 128, 28, 28]     [1, 256, 14, 14]     33,280               True\n",
       "│    │    └─ReLU (relu)                  [1, 256, 14, 14]     [1, 256, 14, 14]     --                   --\n",
       "│    └─BasicBlock (1)                    [1, 256, 14, 14]     [1, 256, 14, 14]     --                   True\n",
       "│    │    └─Conv2d (conv1)               [1, 256, 14, 14]     [1, 256, 14, 14]     589,824              True\n",
       "│    │    └─BatchNorm2d (bn1)            [1, 256, 14, 14]     [1, 256, 14, 14]     512                  True\n",
       "│    │    └─ReLU (relu)                  [1, 256, 14, 14]     [1, 256, 14, 14]     --                   --\n",
       "│    │    └─Conv2d (conv2)               [1, 256, 14, 14]     [1, 256, 14, 14]     589,824              True\n",
       "│    │    └─BatchNorm2d (bn2)            [1, 256, 14, 14]     [1, 256, 14, 14]     512                  True\n",
       "│    │    └─ReLU (relu)                  [1, 256, 14, 14]     [1, 256, 14, 14]     --                   --\n",
       "├─Sequential (layer4)                    [1, 256, 14, 14]     [1, 512, 7, 7]       --                   True\n",
       "│    └─BasicBlock (0)                    [1, 256, 14, 14]     [1, 512, 7, 7]       --                   True\n",
       "│    │    └─Conv2d (conv1)               [1, 256, 14, 14]     [1, 512, 7, 7]       1,179,648            True\n",
       "│    │    └─BatchNorm2d (bn1)            [1, 512, 7, 7]       [1, 512, 7, 7]       1,024                True\n",
       "│    │    └─ReLU (relu)                  [1, 512, 7, 7]       [1, 512, 7, 7]       --                   --\n",
       "│    │    └─Conv2d (conv2)               [1, 512, 7, 7]       [1, 512, 7, 7]       2,359,296            True\n",
       "│    │    └─BatchNorm2d (bn2)            [1, 512, 7, 7]       [1, 512, 7, 7]       1,024                True\n",
       "│    │    └─Sequential (downsample)      [1, 256, 14, 14]     [1, 512, 7, 7]       132,096              True\n",
       "│    │    └─ReLU (relu)                  [1, 512, 7, 7]       [1, 512, 7, 7]       --                   --\n",
       "│    └─BasicBlock (1)                    [1, 512, 7, 7]       [1, 512, 7, 7]       --                   True\n",
       "│    │    └─Conv2d (conv1)               [1, 512, 7, 7]       [1, 512, 7, 7]       2,359,296            True\n",
       "│    │    └─BatchNorm2d (bn1)            [1, 512, 7, 7]       [1, 512, 7, 7]       1,024                True\n",
       "│    │    └─ReLU (relu)                  [1, 512, 7, 7]       [1, 512, 7, 7]       --                   --\n",
       "│    │    └─Conv2d (conv2)               [1, 512, 7, 7]       [1, 512, 7, 7]       2,359,296            True\n",
       "│    │    └─BatchNorm2d (bn2)            [1, 512, 7, 7]       [1, 512, 7, 7]       1,024                True\n",
       "│    │    └─ReLU (relu)                  [1, 512, 7, 7]       [1, 512, 7, 7]       --                   --\n",
       "├─AdaptiveAvgPool2d (avgpool)            [1, 512, 7, 7]       [1, 512, 1, 1]       --                   --\n",
       "├─Linear (fc)                            [1, 512]             [1, 1000]            513,000              True\n",
       "========================================================================================================================\n",
       "Total params: 11,689,512\n",
       "Trainable params: 11,689,512\n",
       "Non-trainable params: 0\n",
       "Total mult-adds (Units.GIGABYTES): 1.81\n",
       "========================================================================================================================\n",
       "Input size (MB): 0.60\n",
       "Forward/backward pass size (MB): 39.75\n",
       "Params size (MB): 46.76\n",
       "Estimated Total Size (MB): 87.11\n",
       "========================================================================================================================"
      ]
     },
     "execution_count": 19,
     "metadata": {},
     "output_type": "execute_result"
    }
   ],
   "execution_count": 19
  },
  {
   "metadata": {
    "ExecuteTime": {
     "end_time": "2025-04-25T19:26:28.434826Z",
     "start_time": "2025-04-25T19:26:28.430427Z"
    }
   },
   "cell_type": "code",
   "source": [
    "for param in model.parameters():\n",
    "    param.requires_grad = False"
   ],
   "id": "4ccd96588083c782",
   "outputs": [],
   "execution_count": 20
  },
  {
   "metadata": {
    "ExecuteTime": {
     "end_time": "2025-04-25T19:26:28.595019Z",
     "start_time": "2025-04-25T19:26:28.589804Z"
    }
   },
   "cell_type": "code",
   "source": "len(class_names)",
   "id": "8de9f518854890a7",
   "outputs": [
    {
     "data": {
      "text/plain": [
       "194"
      ]
     },
     "execution_count": 21,
     "metadata": {},
     "output_type": "execute_result"
    }
   ],
   "execution_count": 21
  },
  {
   "metadata": {
    "ExecuteTime": {
     "end_time": "2025-04-25T19:26:28.656982Z",
     "start_time": "2025-04-25T19:26:28.648618Z"
    }
   },
   "cell_type": "code",
   "source": [
    "from torch import nn\n",
    "\n",
    "model.fc = nn.Sequential(\n",
    "    nn.Linear(in_features=512, out_features=len(class_names)).to(device)\n",
    ")\n",
    "\n",
    "model.fc"
   ],
   "id": "75e28ea28eb78ca4",
   "outputs": [
    {
     "data": {
      "text/plain": [
       "Sequential(\n",
       "  (0): Linear(in_features=512, out_features=194, bias=True)\n",
       ")"
      ]
     },
     "execution_count": 22,
     "metadata": {},
     "output_type": "execute_result"
    }
   ],
   "execution_count": 22
  },
  {
   "metadata": {
    "ExecuteTime": {
     "end_time": "2025-04-25T19:26:28.746827Z",
     "start_time": "2025-04-25T19:26:28.706174Z"
    }
   },
   "cell_type": "code",
   "source": [
    "summary(model=model.to(device),\n",
    "        input_size=(1, 3, 100, 100),\n",
    "        device=device,\n",
    "        col_names=[\"input_size\", \"output_size\", \"num_params\", \"trainable\"],\n",
    "        col_width=20,\n",
    "        row_settings=[\"var_names\"])"
   ],
   "id": "f36ad91484f0bd3e",
   "outputs": [
    {
     "data": {
      "text/plain": [
       "========================================================================================================================\n",
       "Layer (type (var_name))                  Input Shape          Output Shape         Param #              Trainable\n",
       "========================================================================================================================\n",
       "ResNet (ResNet)                          [1, 3, 100, 100]     [1, 194]             --                   Partial\n",
       "├─Conv2d (conv1)                         [1, 3, 100, 100]     [1, 64, 50, 50]      (9,408)              False\n",
       "├─BatchNorm2d (bn1)                      [1, 64, 50, 50]      [1, 64, 50, 50]      (128)                False\n",
       "├─ReLU (relu)                            [1, 64, 50, 50]      [1, 64, 50, 50]      --                   --\n",
       "├─MaxPool2d (maxpool)                    [1, 64, 50, 50]      [1, 64, 25, 25]      --                   --\n",
       "├─Sequential (layer1)                    [1, 64, 25, 25]      [1, 64, 25, 25]      --                   False\n",
       "│    └─BasicBlock (0)                    [1, 64, 25, 25]      [1, 64, 25, 25]      --                   False\n",
       "│    │    └─Conv2d (conv1)               [1, 64, 25, 25]      [1, 64, 25, 25]      (36,864)             False\n",
       "│    │    └─BatchNorm2d (bn1)            [1, 64, 25, 25]      [1, 64, 25, 25]      (128)                False\n",
       "│    │    └─ReLU (relu)                  [1, 64, 25, 25]      [1, 64, 25, 25]      --                   --\n",
       "│    │    └─Conv2d (conv2)               [1, 64, 25, 25]      [1, 64, 25, 25]      (36,864)             False\n",
       "│    │    └─BatchNorm2d (bn2)            [1, 64, 25, 25]      [1, 64, 25, 25]      (128)                False\n",
       "│    │    └─ReLU (relu)                  [1, 64, 25, 25]      [1, 64, 25, 25]      --                   --\n",
       "│    └─BasicBlock (1)                    [1, 64, 25, 25]      [1, 64, 25, 25]      --                   False\n",
       "│    │    └─Conv2d (conv1)               [1, 64, 25, 25]      [1, 64, 25, 25]      (36,864)             False\n",
       "│    │    └─BatchNorm2d (bn1)            [1, 64, 25, 25]      [1, 64, 25, 25]      (128)                False\n",
       "│    │    └─ReLU (relu)                  [1, 64, 25, 25]      [1, 64, 25, 25]      --                   --\n",
       "│    │    └─Conv2d (conv2)               [1, 64, 25, 25]      [1, 64, 25, 25]      (36,864)             False\n",
       "│    │    └─BatchNorm2d (bn2)            [1, 64, 25, 25]      [1, 64, 25, 25]      (128)                False\n",
       "│    │    └─ReLU (relu)                  [1, 64, 25, 25]      [1, 64, 25, 25]      --                   --\n",
       "├─Sequential (layer2)                    [1, 64, 25, 25]      [1, 128, 13, 13]     --                   False\n",
       "│    └─BasicBlock (0)                    [1, 64, 25, 25]      [1, 128, 13, 13]     --                   False\n",
       "│    │    └─Conv2d (conv1)               [1, 64, 25, 25]      [1, 128, 13, 13]     (73,728)             False\n",
       "│    │    └─BatchNorm2d (bn1)            [1, 128, 13, 13]     [1, 128, 13, 13]     (256)                False\n",
       "│    │    └─ReLU (relu)                  [1, 128, 13, 13]     [1, 128, 13, 13]     --                   --\n",
       "│    │    └─Conv2d (conv2)               [1, 128, 13, 13]     [1, 128, 13, 13]     (147,456)            False\n",
       "│    │    └─BatchNorm2d (bn2)            [1, 128, 13, 13]     [1, 128, 13, 13]     (256)                False\n",
       "│    │    └─Sequential (downsample)      [1, 64, 25, 25]      [1, 128, 13, 13]     (8,448)              False\n",
       "│    │    └─ReLU (relu)                  [1, 128, 13, 13]     [1, 128, 13, 13]     --                   --\n",
       "│    └─BasicBlock (1)                    [1, 128, 13, 13]     [1, 128, 13, 13]     --                   False\n",
       "│    │    └─Conv2d (conv1)               [1, 128, 13, 13]     [1, 128, 13, 13]     (147,456)            False\n",
       "│    │    └─BatchNorm2d (bn1)            [1, 128, 13, 13]     [1, 128, 13, 13]     (256)                False\n",
       "│    │    └─ReLU (relu)                  [1, 128, 13, 13]     [1, 128, 13, 13]     --                   --\n",
       "│    │    └─Conv2d (conv2)               [1, 128, 13, 13]     [1, 128, 13, 13]     (147,456)            False\n",
       "│    │    └─BatchNorm2d (bn2)            [1, 128, 13, 13]     [1, 128, 13, 13]     (256)                False\n",
       "│    │    └─ReLU (relu)                  [1, 128, 13, 13]     [1, 128, 13, 13]     --                   --\n",
       "├─Sequential (layer3)                    [1, 128, 13, 13]     [1, 256, 7, 7]       --                   False\n",
       "│    └─BasicBlock (0)                    [1, 128, 13, 13]     [1, 256, 7, 7]       --                   False\n",
       "│    │    └─Conv2d (conv1)               [1, 128, 13, 13]     [1, 256, 7, 7]       (294,912)            False\n",
       "│    │    └─BatchNorm2d (bn1)            [1, 256, 7, 7]       [1, 256, 7, 7]       (512)                False\n",
       "│    │    └─ReLU (relu)                  [1, 256, 7, 7]       [1, 256, 7, 7]       --                   --\n",
       "│    │    └─Conv2d (conv2)               [1, 256, 7, 7]       [1, 256, 7, 7]       (589,824)            False\n",
       "│    │    └─BatchNorm2d (bn2)            [1, 256, 7, 7]       [1, 256, 7, 7]       (512)                False\n",
       "│    │    └─Sequential (downsample)      [1, 128, 13, 13]     [1, 256, 7, 7]       (33,280)             False\n",
       "│    │    └─ReLU (relu)                  [1, 256, 7, 7]       [1, 256, 7, 7]       --                   --\n",
       "│    └─BasicBlock (1)                    [1, 256, 7, 7]       [1, 256, 7, 7]       --                   False\n",
       "│    │    └─Conv2d (conv1)               [1, 256, 7, 7]       [1, 256, 7, 7]       (589,824)            False\n",
       "│    │    └─BatchNorm2d (bn1)            [1, 256, 7, 7]       [1, 256, 7, 7]       (512)                False\n",
       "│    │    └─ReLU (relu)                  [1, 256, 7, 7]       [1, 256, 7, 7]       --                   --\n",
       "│    │    └─Conv2d (conv2)               [1, 256, 7, 7]       [1, 256, 7, 7]       (589,824)            False\n",
       "│    │    └─BatchNorm2d (bn2)            [1, 256, 7, 7]       [1, 256, 7, 7]       (512)                False\n",
       "│    │    └─ReLU (relu)                  [1, 256, 7, 7]       [1, 256, 7, 7]       --                   --\n",
       "├─Sequential (layer4)                    [1, 256, 7, 7]       [1, 512, 4, 4]       --                   False\n",
       "│    └─BasicBlock (0)                    [1, 256, 7, 7]       [1, 512, 4, 4]       --                   False\n",
       "│    │    └─Conv2d (conv1)               [1, 256, 7, 7]       [1, 512, 4, 4]       (1,179,648)          False\n",
       "│    │    └─BatchNorm2d (bn1)            [1, 512, 4, 4]       [1, 512, 4, 4]       (1,024)              False\n",
       "│    │    └─ReLU (relu)                  [1, 512, 4, 4]       [1, 512, 4, 4]       --                   --\n",
       "│    │    └─Conv2d (conv2)               [1, 512, 4, 4]       [1, 512, 4, 4]       (2,359,296)          False\n",
       "│    │    └─BatchNorm2d (bn2)            [1, 512, 4, 4]       [1, 512, 4, 4]       (1,024)              False\n",
       "│    │    └─Sequential (downsample)      [1, 256, 7, 7]       [1, 512, 4, 4]       (132,096)            False\n",
       "│    │    └─ReLU (relu)                  [1, 512, 4, 4]       [1, 512, 4, 4]       --                   --\n",
       "│    └─BasicBlock (1)                    [1, 512, 4, 4]       [1, 512, 4, 4]       --                   False\n",
       "│    │    └─Conv2d (conv1)               [1, 512, 4, 4]       [1, 512, 4, 4]       (2,359,296)          False\n",
       "│    │    └─BatchNorm2d (bn1)            [1, 512, 4, 4]       [1, 512, 4, 4]       (1,024)              False\n",
       "│    │    └─ReLU (relu)                  [1, 512, 4, 4]       [1, 512, 4, 4]       --                   --\n",
       "│    │    └─Conv2d (conv2)               [1, 512, 4, 4]       [1, 512, 4, 4]       (2,359,296)          False\n",
       "│    │    └─BatchNorm2d (bn2)            [1, 512, 4, 4]       [1, 512, 4, 4]       (1,024)              False\n",
       "│    │    └─ReLU (relu)                  [1, 512, 4, 4]       [1, 512, 4, 4]       --                   --\n",
       "├─AdaptiveAvgPool2d (avgpool)            [1, 512, 4, 4]       [1, 512, 1, 1]       --                   --\n",
       "├─Sequential (fc)                        [1, 512]             [1, 194]             --                   True\n",
       "│    └─Linear (0)                        [1, 512]             [1, 194]             99,522               True\n",
       "========================================================================================================================\n",
       "Total params: 11,276,034\n",
       "Trainable params: 99,522\n",
       "Non-trainable params: 11,176,512\n",
       "Total mult-adds (Units.MEGABYTES): 441.37\n",
       "========================================================================================================================\n",
       "Input size (MB): 0.12\n",
       "Forward/backward pass size (MB): 8.51\n",
       "Params size (MB): 45.10\n",
       "Estimated Total Size (MB): 53.74\n",
       "========================================================================================================================"
      ]
     },
     "execution_count": 23,
     "metadata": {},
     "output_type": "execute_result"
    }
   ],
   "execution_count": 23
  },
  {
   "metadata": {},
   "cell_type": "markdown",
   "source": "## Train the model",
   "id": "52ecc3d1a3426f49"
  },
  {
   "metadata": {
    "ExecuteTime": {
     "end_time": "2025-04-25T19:26:28.796634Z",
     "start_time": "2025-04-25T19:26:28.791215Z"
    }
   },
   "cell_type": "code",
   "source": [
    "loss_fn = nn.CrossEntropyLoss()\n",
    "\n",
    "optimizer = torch.optim.Adam(model.parameters(), lr=1e-3)"
   ],
   "id": "507e275010fbb6cf",
   "outputs": [],
   "execution_count": 24
  },
  {
   "metadata": {
    "ExecuteTime": {
     "end_time": "2025-04-25T19:38:47.185551Z",
     "start_time": "2025-04-25T19:26:28.844275Z"
    }
   },
   "cell_type": "code",
   "source": [
    "import engine\n",
    "\n",
    "from timeit import default_timer as timer\n",
    "\n",
    "start_time = timer()\n",
    "\n",
    "results = engine.train(model=model,\n",
    "                       train_dataloader=train_dataloader,\n",
    "                       test_dataloader=test_dataloader,\n",
    "                       optimizer=optimizer,\n",
    "                       loss_fn=loss_fn,\n",
    "                       epochs=5,\n",
    "                       device=device)\n",
    "\n",
    "end_time = timer()\n",
    "\n",
    "print(f\"Total train time: {(end_time - start_time) :.3f} seconds.\")"
   ],
   "id": "364d1df5da9c3889",
   "outputs": [
    {
     "data": {
      "text/plain": [
       "  0%|          | 0/5 [00:00<?, ?it/s]"
      ],
      "application/vnd.jupyter.widget-view+json": {
       "version_major": 2,
       "version_minor": 0,
       "model_id": "e91c3a54ea8a4868b9fd41705d8d5fac"
      }
     },
     "metadata": {},
     "output_type": "display_data"
    },
    {
     "name": "stdout",
     "output_type": "stream",
     "text": [
      "Epoch: 1 | train_loss: 0.2937 | train_acc: 0.9295 | test_loss: 17.3205 | test_acc: 0.2356\n",
      "Epoch: 2 | train_loss: 0.0869 | train_acc: 0.9721 | test_loss: 21.7282 | test_acc: 0.2392\n",
      "Epoch: 3 | train_loss: 0.0695 | train_acc: 0.9775 | test_loss: 24.7709 | test_acc: 0.2360\n",
      "Epoch: 4 | train_loss: 0.0601 | train_acc: 0.9809 | test_loss: 27.7041 | test_acc: 0.2381\n",
      "Epoch: 5 | train_loss: 0.0580 | train_acc: 0.9818 | test_loss: 29.1705 | test_acc: 0.2360\n",
      "Total train time: 738.245 seconds.\n"
     ]
    }
   ],
   "execution_count": 25
  },
  {
   "metadata": {
    "ExecuteTime": {
     "end_time": "2025-04-25T19:38:47.333871Z",
     "start_time": "2025-04-25T19:38:47.258567Z"
    }
   },
   "cell_type": "code",
   "source": [
    "import utils\n",
    "\n",
    "utils.save_model(model=model,\n",
    "                 target_dir=\"models\",\n",
    "                 model_name=\"resnet18_100x100.pth\")"
   ],
   "id": "2dab85fb969febb6",
   "outputs": [
    {
     "name": "stdout",
     "output_type": "stream",
     "text": [
      "[INFO] Saving model to: models\\resnet18_100x100.pth\n"
     ]
    }
   ],
   "execution_count": 26
  },
  {
   "metadata": {
    "ExecuteTime": {
     "end_time": "2025-04-25T19:38:47.644469Z",
     "start_time": "2025-04-25T19:38:47.367176Z"
    }
   },
   "cell_type": "code",
   "source": [
    "from PIL import Image\n",
    "from torchvision import transforms\n",
    "import matplotlib.pyplot as plt\n",
    "from typing import List, Tuple\n",
    "\n",
    "def pred_and_plot_image(model: torch.nn.Module,\n",
    "                        image_path: str,\n",
    "                        class_names: List[str],\n",
    "                        image_size: Tuple[int, int]=(100,100),\n",
    "                        transform: torchvision.transforms=None,\n",
    "                        device: torch.device=device):\n",
    "    img = Image.open(image_path)\n",
    "\n",
    "    if transform is not None:\n",
    "        image_transform = transform\n",
    "    else:\n",
    "        image_transform = transforms.Compose([\n",
    "            transforms.Resize(image_size),\n",
    "            transforms.ToTensor(),\n",
    "            transforms.Normalize(mean=[0.485, 0.456, 0.406],\n",
    "                                 std=[0.229, 0.224, 0.225])\n",
    "        ])\n",
    "\n",
    "    model.to(device)\n",
    "\n",
    "    model.eval()\n",
    "    with torch.inference_mode():\n",
    "        transformed_img = image_transform(img).unsqueeze(0)\n",
    "\n",
    "        target_image_pred = model(transformed_img.to(device))\n",
    "\n",
    "        target_image_pred_probs = torch.softmax(target_image_pred, dim=1)\n",
    "\n",
    "        target_image_pred_label = torch.argmax(target_image_pred_probs, dim=1)\n",
    "\n",
    "    plt.figure()\n",
    "    plt.imshow(img)\n",
    "    plt.title(f\"Pred: {class_names[target_image_pred_label.item()]} | Prob: {target_image_pred_probs.max():.3f}\")\n",
    "    plt.axis(False)\n"
   ],
   "id": "f71cc540c91f81e8",
   "outputs": [],
   "execution_count": 27
  },
  {
   "metadata": {
    "ExecuteTime": {
     "end_time": "2025-04-25T19:50:57.736519Z",
     "start_time": "2025-04-25T19:50:57.629789Z"
    }
   },
   "cell_type": "code",
   "source": [
    "pred_and_plot_image(model=model,\n",
    "                    image_path=\"data/Test/Banana 1/106_100.jpg\",\n",
    "                    class_names=class_names,\n",
    "                    image_size=(100,100),\n",
    "                    device=device)"
   ],
   "id": "445e16e073727578",
   "outputs": [
    {
     "data": {
      "text/plain": [
       "<Figure size 640x480 with 1 Axes>"
      ],
      "image/png": "[encoded data removed]"
     },
     "metadata": {},
     "output_type": "display_data"
    }
   ],
   "execution_count": 46
  }
 ],
 "metadata": {
  "kernelspec": {
   "display_name": "Python 3",
   "language": "python",
   "name": "python3"
  },
  "language_info": {
   "codemirror_mode": {
    "name": "ipython",
    "version": 2
   },
   "file_extension": ".py",
   "mimetype": "text/x-python",
   "name": "python",
   "nbconvert_exporter": "python",
   "pygments_lexer": "ipython2",
   "version": "2.7.6"
  }
 },
 "nbformat": 4,
 "nbformat_minor": 5
}
